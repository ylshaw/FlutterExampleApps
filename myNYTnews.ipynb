{
  "nbformat": 4,
  "nbformat_minor": 0,
  "metadata": {
    "colab": {
      "name": "myNYTnews.ipynb",
      "provenance": [],
      "collapsed_sections": [],
      "authorship_tag": "ABX9TyPLZAYLH+/glMTkeAkd4UJC",
      "include_colab_link": true
    },
    "kernelspec": {
      "name": "python3",
      "display_name": "Python 3"
    }
  },
  "cells": [
    {
      "cell_type": "markdown",
      "metadata": {
        "id": "view-in-github",
        "colab_type": "text"
      },
      "source": [
        "<a href=\"https://colab.research.google.com/github/ylshaw/FlutterExampleApps/blob/master/myNYTnews.ipynb\" target=\"_parent\"><img src=\"https://colab.research.google.com/assets/colab-badge.svg\" alt=\"Open In Colab\"/></a>"
      ]
    },
    {
      "cell_type": "code",
      "metadata": {
        "id": "fEaXcGjVdDcP",
        "colab_type": "code",
        "colab": {}
      },
      "source": [
        "API_Key = 'jLLBoJUlpQ8OIFppGlYm05nNvwIfeSLU'\n",
        "import requests\n",
        "import pandas as pd\n",
        "import json"
      ],
      "execution_count": 5,
      "outputs": []
    },
    {
      "cell_type": "code",
      "metadata": {
        "id": "GwrboILyeEzQ",
        "colab_type": "code",
        "colab": {
          "base_uri": "https://localhost:8080/",
          "height": 34
        },
        "outputId": "54e19693-a2d9-41ea-894f-2b2c715bcc82"
      },
      "source": [
        "base_url = 'https://api.nytimes.com/svc/mostpopular/v2/viewed/7.json?api-key='+API_Key\n",
        "response = requests.get(base_url).json()"
      ],
      "execution_count": 11,
      "outputs": [
        {
          "output_type": "stream",
          "text": [
            "<built-in method keys of dict object at 0x7fa66445ab88>\n"
          ],
          "name": "stdout"
        }
      ]
    },
    {
      "cell_type": "code",
      "metadata": {
        "id": "hUWAVjKoeEvM",
        "colab_type": "code",
        "colab": {
          "base_uri": "https://localhost:8080/",
          "height": 34
        },
        "outputId": "1d546715-86ea-479e-9810-63814c7182d0"
      },
      "source": [
        "list(response)"
      ],
      "execution_count": 12,
      "outputs": [
        {
          "output_type": "execute_result",
          "data": {
            "text/plain": [
              "['status', 'copyright', 'num_results', 'results']"
            ]
          },
          "metadata": {
            "tags": []
          },
          "execution_count": 12
        }
      ]
    },
    {
      "cell_type": "code",
      "metadata": {
        "id": "1FUwdTSTeErV",
        "colab_type": "code",
        "colab": {
          "base_uri": "https://localhost:8080/",
          "height": 54
        },
        "outputId": "ca465914-535b-45db-da44-e1613f146115"
      },
      "source": [
        "data=[]\n",
        "for i in response['results']:\n",
        "  data.append(i)\n",
        "  \n",
        "print(data)"
      ],
      "execution_count": 14,
      "outputs": [
        {
          "output_type": "stream",
          "text": [
            "[{'uri': 'nyt://article/aad3923b-ed52-582d-be30-d016f3b8f737', 'url': 'https://www.nytimes.com/2020/09/08/nyregion/donald-trump-jean-carroll-lawsuit-rape.html', 'id': 100000007330554, 'asset_id': 100000007330554, 'source': 'New York Times', 'published_date': '2020-09-08', 'updated': '2020-09-09 17:12:26', 'section': 'New York', 'subsection': '', 'nytdsection': 'new york', 'adx_keywords': 'Suits and Litigation (Civil);Sex Crimes;Libel and Slander;Immunity from Prosecution;Presidential Election of 2020;Trump, Donald J;Carroll, E Jean;Justice Department;Manhattan (NYC)', 'column': None, 'byline': 'By Alan Feuer', 'type': 'Article', 'title': 'Justice Dept. Intervenes to Help Trump in E. Jean Carroll Defamation Lawsuit', 'abstract': 'Government lawyers made the unusual move of seeking to take over President Trump’s defense in a suit brought by Ms. Carroll, who has accused Mr. Trump of raping her in the 1990s.', 'des_facet': ['Suits and Litigation (Civil)', 'Sex Crimes', 'Libel and Slander', 'Immunity from Prosecution', 'Presidential Election of 2020'], 'org_facet': ['Justice Department'], 'per_facet': ['Trump, Donald J', 'Carroll, E Jean'], 'geo_facet': ['Manhattan (NYC)'], 'media': [{'type': 'image', 'subtype': 'photo', 'caption': 'E. Jean Carroll, a writer who has accused President Trump of raping her, sued him last November, claiming that he lied by publicly denying he had ever met her.', 'copyright': 'Jefferson Siegel for The New York Times', 'approved_for_syndication': 1, 'media-metadata': [{'url': 'https://static01.nyt.com/images/2020/09/09/nyregion/08nytrump/08nytrump-thumbStandard.jpg', 'format': 'Standard Thumbnail', 'height': 75, 'width': 75}, {'url': 'https://static01.nyt.com/images/2020/09/09/nyregion/08nytrump/08nytrump-mediumThreeByTwo210-v2.jpg', 'format': 'mediumThreeByTwo210', 'height': 140, 'width': 210}, {'url': 'https://static01.nyt.com/images/2020/09/09/nyregion/08nytrump/08nytrump-mediumThreeByTwo440-v2.jpg', 'format': 'mediumThreeByTwo440', 'height': 293, 'width': 440}]}], 'eta_id': 0}, {'uri': 'nyt://article/6f127ce3-5c24-52e0-a39e-3ca00c1e1d1a', 'url': 'https://www.nytimes.com/2020/09/14/science/venus-life-clouds.html', 'id': 100000007331580, 'asset_id': 100000007331580, 'source': 'New York Times', 'published_date': '2020-09-14', 'updated': '2020-09-15 07:24:53', 'section': 'Science', 'subsection': '', 'nytdsection': 'science', 'adx_keywords': 'Venus (Planet);Extraterrestrial Life;Biology and Biochemistry;Research;Telescopes and Observatories;Microbiology;Space and Astronomy', 'column': None, 'byline': 'By Shannon Stirone, Kenneth Chang and Dennis Overbye', 'type': 'Article', 'title': 'Life on Venus? Astronomers See a Signal in Its Clouds', 'abstract': 'The detection of a gas in the planet’s atmosphere could turn scientists’ gaze to a planet long overlooked in the search for extraterrestrial life.', 'des_facet': ['Venus (Planet)', 'Extraterrestrial Life', 'Biology and Biochemistry', 'Research', 'Telescopes and Observatories', 'Microbiology', 'Space and Astronomy'], 'org_facet': [], 'per_facet': [], 'geo_facet': [], 'media': [{'type': 'image', 'subtype': 'photo', 'caption': 'An image of Venus, made with data recorded by Japan’s Akatsuki spacecraft in 2016. So close, so similar and very mysterious, the planet is surprising scientists with a chemical signature spotted in its clouds.', 'copyright': 'PLANET-C Project Team/JAXA', 'approved_for_syndication': 1, 'media-metadata': [{'url': 'https://static01.nyt.com/images/2020/09/14/science/14SCI-VENUS1-alt/14SCI-VENUS1-alt-thumbStandard.jpg', 'format': 'Standard Thumbnail', 'height': 75, 'width': 75}, {'url': 'https://static01.nyt.com/images/2020/09/14/science/14SCI-VENUS1-alt/14SCI-VENUS1-alt-mediumThreeByTwo210.jpg', 'format': 'mediumThreeByTwo210', 'height': 140, 'width': 210}, {'url': 'https://static01.nyt.com/images/2020/09/14/science/14SCI-VENUS1-alt/14SCI-VENUS1-alt-mediumThreeByTwo440.jpg', 'format': 'mediumThreeByTwo440', 'height': 293, 'width': 440}]}], 'eta_id': 0}, {'uri': 'nyt://article/9de705e6-9add-5488-91ed-6c2329113666', 'url': 'https://www.nytimes.com/2018/02/28/world/europe/nobel-peace-prize-trump-fake-nomination.html', 'id': 100000005770803, 'asset_id': 100000005770803, 'source': 'New York Times', 'published_date': '2018-02-28', 'updated': '2020-09-11 23:17:42', 'section': 'World', 'subsection': 'Europe', 'nytdsection': 'world', 'adx_keywords': 'Forgery;Nobel Prizes;United States Politics and Government;Trump, Donald J;Norwegian Nobel Committee;Norway', 'column': None, 'byline': 'By Henrik Pryser Libell', 'type': 'Article', 'title': 'From 2018: Trump’s Nomination for the Nobel Peace Prize Was Apparently Forged. Twice.', 'abstract': 'The police in Oslo said they were in contact with the F.B.I. about the forgeries, which suggests that they originated in the United States.', 'des_facet': ['Forgery', 'Nobel Prizes', 'United States Politics and Government'], 'org_facet': ['Norwegian Nobel Committee'], 'per_facet': ['Trump, Donald J'], 'geo_facet': ['Norway'], 'media': [{'type': 'image', 'subtype': 'photo', 'caption': 'Olav Njolstad, the secretary of the five-member Norwegian Nobel Committee, said Wednesday that a nomination of President Trump appeared to be a fake.', 'copyright': 'Nigel Waldron/Getty Images', 'approved_for_syndication': 1, 'media-metadata': [{'url': 'https://static01.nyt.com/images/2018/03/01/world/01NOBEL-01/01NOBEL-01-thumbStandard.jpg', 'format': 'Standard Thumbnail', 'height': 75, 'width': 75}, {'url': 'https://static01.nyt.com/images/2018/03/01/world/01NOBEL-01/merlin_134717175_3b92c4e3-4e7d-4960-b633-15cea1ca10c7-mediumThreeByTwo210.jpg', 'format': 'mediumThreeByTwo210', 'height': 140, 'width': 210}, {'url': 'https://static01.nyt.com/images/2018/03/01/world/01NOBEL-01/merlin_134717175_3b92c4e3-4e7d-4960-b633-15cea1ca10c7-mediumThreeByTwo440.jpg', 'format': 'mediumThreeByTwo440', 'height': 293, 'width': 440}]}], 'eta_id': 0}, {'uri': 'nyt://article/35f34de9-8845-53ca-857b-2b5a87408fe1', 'url': 'https://www.nytimes.com/2020/09/11/us/wildfires-live-updates.html', 'id': 100000007335507, 'asset_id': 100000007335507, 'source': 'New York Times', 'published_date': '2020-09-11', 'updated': '2020-09-15 09:23:34', 'section': 'U.S.', 'subsection': '', 'nytdsection': 'u.s.', 'adx_keywords': 'Wildfires;Fires and Firefighters;Evacuations and Evacuees;California;Washington (State);Portland (Ore);Oregon', 'column': None, 'byline': '', 'type': 'Article', 'title': 'Suspect Is Charged With Arson in Oregon Wildfire', 'abstract': 'Oregon’s governor said there were concerns for dozens of people reported missing in a state where more than a million acres have burned. California and Washington State are also battling fires.', 'des_facet': ['Wildfires', 'Fires and Firefighters', 'Evacuations and Evacuees'], 'org_facet': [], 'per_facet': [], 'geo_facet': ['California', 'Washington (State)', 'Portland (Ore)', 'Oregon'], 'media': [], 'eta_id': 0}, {'uri': 'nyt://article/a42750d6-5b61-5698-b0b8-b34ce83552e1', 'url': 'https://www.nytimes.com/2020/09/07/us/politics/trump-election-campaign-fundraising.html', 'id': 100000007317029, 'asset_id': 100000007317029, 'source': 'New York Times', 'published_date': '2020-09-07', 'updated': '2020-09-10 20:54:11', 'section': 'U.S.', 'subsection': 'Politics', 'nytdsection': 'u.s.', 'adx_keywords': 'Presidential Election of 2020;Campaign Finance;United States Politics and Government;Political Advertising;Biden, Joseph R Jr;Dershowitz, Alan M;Parscale, Brad (1976- );Stepien, Bill;Trump, Donald J;Republican National Committee;Republican Party', 'column': None, 'byline': 'By Shane Goldmacher and Maggie Haberman', 'type': 'Article', 'title': 'How Trump’s Billion-Dollar Campaign Lost Its Cash Advantage', 'abstract': 'Five months ago, President Trump’s re-election campaign had a huge financial edge over Joseph R. Biden Jr.’s. The Times conducted an extensive review of how the Trump team spent lavishly to show how that advantage evaporated.', 'des_facet': ['Presidential Election of 2020', 'Campaign Finance', 'United States Politics and Government', 'Political Advertising'], 'org_facet': ['Republican National Committee', 'Republican Party'], 'per_facet': ['Biden, Joseph R Jr', 'Dershowitz, Alan M', 'Parscale, Brad (1976- )', 'Stepien, Bill', 'Trump, Donald J'], 'geo_facet': [], 'media': [{'type': 'image', 'subtype': 'photo', 'caption': 'A rally for President Trump in Latrobe, Pa., last week. Mr. Trump’s campaign has spent $800 million.', 'copyright': 'Anna Moneymaker for The New York Times', 'approved_for_syndication': 1, 'media-metadata': [{'url': 'https://static01.nyt.com/images/2020/09/04/us/politics/00trump-spending00/00trump-spending00-thumbStandard.jpg', 'format': 'Standard Thumbnail', 'height': 75, 'width': 75}, {'url': 'https://static01.nyt.com/images/2020/09/04/us/politics/00trump-spending00/merlin_176546619_b3fcc086-e036-4cda-98de-7ef93a88e0e6-mediumThreeByTwo210.jpg', 'format': 'mediumThreeByTwo210', 'height': 140, 'width': 210}, {'url': 'https://static01.nyt.com/images/2020/09/04/us/politics/00trump-spending00/merlin_176546619_b3fcc086-e036-4cda-98de-7ef93a88e0e6-mediumThreeByTwo440.jpg', 'format': 'mediumThreeByTwo440', 'height': 293, 'width': 440}]}], 'eta_id': 0}, {'uri': 'nyt://article/4638277a-4fda-5738-ba27-45b4398f29d4', 'url': 'https://www.nytimes.com/2020/09/09/opinion/united-states-social-progress.html', 'id': 100000007332239, 'asset_id': 100000007332239, 'source': 'New York Times', 'published_date': '2020-09-09', 'updated': '2020-09-10 23:26:45', 'section': 'Opinion', 'subsection': '', 'nytdsection': 'opinion', 'adx_keywords': 'Third World and Developing Countries;Education;Coronavirus (2019-nCoV);United States Politics and Government;Discrimination;Mental Health and Disorders;Drug Abuse and Traffic;United States', 'column': None, 'byline': 'By Nicholas Kristof', 'type': 'Article', 'title': '‘We’re No. 28! And Dropping!’', 'abstract': 'A measure of social progress finds that the quality of life has dropped in America over the last decade, even as it has risen almost everywhere else.', 'des_facet': ['Third World and Developing Countries', 'Education', 'Coronavirus (2019-nCoV)', 'United States Politics and Government', 'Discrimination', 'Mental Health and Disorders', 'Drug Abuse and Traffic'], 'org_facet': [], 'per_facet': [], 'geo_facet': ['United States'], 'media': [{'type': 'image', 'subtype': 'photo', 'caption': 'A woman in Pennington Gap, Va., a town that has suffered the ravages of the epidemic of despair.', 'copyright': 'Johnathon Kelso for The New York Times', 'approved_for_syndication': 1, 'media-metadata': [{'url': 'https://static01.nyt.com/images/2020/09/09/opinion/09kristofWeb/merlin_159293178_6c25e43e-0d9d-4d8a-b72c-298dbd7e7f44-thumbStandard.jpg', 'format': 'Standard Thumbnail', 'height': 75, 'width': 75}, {'url': 'https://static01.nyt.com/images/2020/09/09/opinion/09kristofWeb/09kristofWeb-mediumThreeByTwo210.jpg', 'format': 'mediumThreeByTwo210', 'height': 140, 'width': 210}, {'url': 'https://static01.nyt.com/images/2020/09/09/opinion/09kristofWeb/09kristofWeb-mediumThreeByTwo440.jpg', 'format': 'mediumThreeByTwo440', 'height': 293, 'width': 440}]}], 'eta_id': 0}, {'uri': 'nyt://article/55f66292-3c58-59ca-be04-04b1e50676ad', 'url': 'https://www.nytimes.com/2020/09/07/us/gender-reveal-party-wildfire.html', 'id': 100000007328020, 'asset_id': 100000007328020, 'source': 'New York Times', 'published_date': '2020-09-07', 'updated': '2020-09-14 10:00:09', 'section': 'U.S.', 'subsection': '', 'nytdsection': 'u.s.', 'adx_keywords': 'Wildfires;Fires and Firefighters;Parties (Social);Gender;Aviation Accidents, Safety and Disasters;Social Media;Deaths (Fatalities);California;Arizona;Iowa', 'column': None, 'byline': 'By Christina Morales and Allyson Waller', 'type': 'Article', 'title': 'A Gender-Reveal Celebration Is Blamed for a Wildfire. It Isn’t the First Time.', 'abstract': 'The El Dorado fire in California ignited as a family was using a “pyrotechnic device” to announce the gender of a new baby, the authorities said.', 'des_facet': ['Wildfires', 'Fires and Firefighters', 'Parties (Social)', 'Gender', 'Aviation Accidents, Safety and Disasters', 'Social Media', 'Deaths (Fatalities)'], 'org_facet': [], 'per_facet': [], 'geo_facet': ['California', 'Arizona', 'Iowa'], 'media': [{'type': 'image', 'subtype': 'photo', 'caption': 'The authorities said the El Dorado fire near Yucaipa, Calif., started as the result of a gender-reveal party.', 'copyright': 'Ringo H.W. Chiu/Associated Press', 'approved_for_syndication': 1, 'media-metadata': [{'url': 'https://static01.nyt.com/images/2020/09/07/multimedia/07xp-genderreveal-dorado/07xp-genderreveal-dorado-thumbStandard.jpg', 'format': 'Standard Thumbnail', 'height': 75, 'width': 75}, {'url': 'https://static01.nyt.com/images/2020/09/07/multimedia/07xp-genderreveal-dorado/merlin_176697315_a925bac2-f96e-4a4d-b933-1c18f6a9abab-mediumThreeByTwo210.jpg', 'format': 'mediumThreeByTwo210', 'height': 140, 'width': 210}, {'url': 'https://static01.nyt.com/images/2020/09/07/multimedia/07xp-genderreveal-dorado/merlin_176697315_a925bac2-f96e-4a4d-b933-1c18f6a9abab-mediumThreeByTwo440.jpg', 'format': 'mediumThreeByTwo440', 'height': 293, 'width': 440}]}], 'eta_id': 0}, {'uri': 'nyt://article/879baa8d-1950-5a13-b26d-4a3006181c87', 'url': 'https://www.nytimes.com/2020/09/08/well/live/dentists-tooth-teeth-cracks-fractures-coronavirus-stress-grinding.html', 'id': 100000007320866, 'asset_id': 100000007320866, 'source': 'New York Times', 'published_date': '2020-09-08', 'updated': '2020-09-15 10:56:27', 'section': 'Well', 'subsection': 'Live', 'nytdsection': 'well', 'adx_keywords': 'Content Type: Service;Teeth and Dentistry;Bruxism;Anxiety and Stress;Telecommuting;Jaw (Body Part);Quarantines;Coronavirus (2019-nCoV)', 'column': None, 'byline': 'By Tammy Chen, D.D.S.', 'type': 'Article', 'title': 'A Dentist Sees More Cracked Teeth. What’s Going On?', 'abstract': 'When I reopened my dental practice in early June, the tooth fractures started coming in: at least one a day, every single day that I’ve been in the office.', 'des_facet': ['Content Type: Service', 'Teeth and Dentistry', 'Bruxism', 'Anxiety and Stress', 'Telecommuting', 'Jaw (Body Part)', 'Quarantines', 'Coronavirus (2019-nCoV)'], 'org_facet': [], 'per_facet': [], 'geo_facet': [], 'media': [{'type': 'image', 'subtype': 'photo', 'caption': '', 'copyright': 'Getty Images', 'approved_for_syndication': 1, 'media-metadata': [{'url': 'https://static01.nyt.com/images/2020/09/15/well/well-teeth/well-teeth-thumbStandard.jpg', 'format': 'Standard Thumbnail', 'height': 75, 'width': 75}, {'url': 'https://static01.nyt.com/images/2020/09/15/well/well-teeth/well-teeth-mediumThreeByTwo210.jpg', 'format': 'mediumThreeByTwo210', 'height': 140, 'width': 210}, {'url': 'https://static01.nyt.com/images/2020/09/15/well/well-teeth/well-teeth-mediumThreeByTwo440.jpg', 'format': 'mediumThreeByTwo440', 'height': 293, 'width': 440}]}], 'eta_id': 0}, {'uri': 'nyt://article/dcdc929a-a3ff-5e33-8810-249655f0a404', 'url': 'https://www.nytimes.com/2020/09/09/us/fires-oregon-california-live-updates.html', 'id': 100000007331180, 'asset_id': 100000007331180, 'source': 'New York Times', 'published_date': '2020-09-09', 'updated': '2020-09-15 09:28:21', 'section': 'U.S.', 'subsection': '', 'nytdsection': 'u.s.', 'adx_keywords': 'Wildfires;California;Oroville (Calif);Oregon', 'column': None, 'byline': '', 'type': 'Article', 'title': '7 People Die in West Coast Wildfires', 'abstract': 'Strong winds were likely to continue to propel the extraordinary number of fires burning in California, Oregon and Washington.', 'des_facet': ['Wildfires'], 'org_facet': [], 'per_facet': [], 'geo_facet': ['California', 'Oroville (Calif)', 'Oregon'], 'media': [], 'eta_id': 0}, {'uri': 'nyt://article/4593e681-925a-5c47-b699-90ea4ec28e64', 'url': 'https://www.nytimes.com/2020/09/14/us/politics/caputo-virus.html', 'id': 100000007339337, 'asset_id': 100000007339337, 'source': 'New York Times', 'published_date': '2020-09-14', 'updated': '2020-09-15 10:56:10', 'section': 'U.S.', 'subsection': 'Politics', 'nytdsection': 'u.s.', 'adx_keywords': 'Coronavirus (2019-nCoV);Conspiracy Theories;Demonstrations, Protests and Riots;Social Media;United States Politics and Government;Presidential Election of 2020;Caputo, Michael R;Trump, Donald J;Facebook Inc;Health and Human Services Department;Centers for Disease Control and Prevention', 'column': None, 'byline': 'By Sharon LaFraniere', 'type': 'Article', 'title': 'Trump Health Aide Pushes Bizarre Conspiracies and Warns of Armed Revolt', 'abstract': 'Michael R. Caputo told a Facebook audience without evidence that left-wing hit squads were being trained for insurrection and accused C.D.C. scientists of “sedition.”', 'des_facet': ['Coronavirus (2019-nCoV)', 'Conspiracy Theories', 'Demonstrations, Protests and Riots', 'Social Media', 'United States Politics and Government', 'Presidential Election of 2020'], 'org_facet': ['Facebook Inc', 'Health and Human Services Department', 'Centers for Disease Control and Prevention'], 'per_facet': ['Caputo, Michael R', 'Trump, Donald J'], 'geo_facet': [], 'media': [{'type': 'image', 'subtype': 'photo', 'caption': 'Michael Caputo, the top communications official at the Department of Health and Human Services, complained that he was under siege by the news media and said his “mental health has definitely failed.”', 'copyright': 'Sam Hodgson for The New York Times', 'approved_for_syndication': 1, 'media-metadata': [{'url': 'https://static01.nyt.com/images/2020/09/14/us/politics/14dc-virus-caputo/14dc-virus-caputo-thumbStandard-v2.jpg', 'format': 'Standard Thumbnail', 'height': 75, 'width': 75}, {'url': 'https://static01.nyt.com/images/2020/09/14/us/politics/14dc-virus-caputo/14dc-virus-caputo-mediumThreeByTwo210-v2.jpg', 'format': 'mediumThreeByTwo210', 'height': 140, 'width': 210}, {'url': 'https://static01.nyt.com/images/2020/09/14/us/politics/14dc-virus-caputo/14dc-virus-caputo-mediumThreeByTwo440-v2.jpg', 'format': 'mediumThreeByTwo440', 'height': 293, 'width': 440}]}], 'eta_id': 0}, {'uri': 'nyt://article/48f0a5ee-c9a0-5b05-8d9e-505999fe6e71', 'url': 'https://www.nytimes.com/2020/09/09/health/coronavirus-brain.html', 'id': 100000007329962, 'asset_id': 100000007329962, 'source': 'New York Times', 'published_date': '2020-09-09', 'updated': '2020-09-13 04:20:22', 'section': 'Health', 'subsection': '', 'nytdsection': 'health', 'adx_keywords': 'your-feed-science;Stroke;Delirium;Brain;Coronavirus (2019-nCoV);Immune System;Nerves and Nervous System;Zika Virus;Muotri, Alysson;Stevens, Robert', 'column': None, 'byline': 'By Apoorva Mandavilli', 'type': 'Article', 'title': 'How the Coronavirus Attacks the Brain', 'abstract': 'It’s not just the lungs — the pathogen may enter brain cells, causing symptoms like delirium and confusion, scientists reported.', 'des_facet': ['your-feed-science', 'Stroke', 'Delirium', 'Brain', 'Coronavirus (2019-nCoV)', 'Immune System', 'Nerves and Nervous System', 'Zika Virus'], 'org_facet': [], 'per_facet': ['Muotri, Alysson', 'Stevens, Robert'], 'geo_facet': [], 'media': [{'type': 'image', 'subtype': 'photo', 'caption': 'Brain scans of coronavirus patients from a study published in July. Some develop serious neurological complications, including nerve damage, scientists have found.', 'copyright': 'Ross W. Paterson, Rachel L. Brown, et al./Brain, Oxford University Press', 'approved_for_syndication': 1, 'media-metadata': [{'url': 'https://static01.nyt.com/images/2020/09/09/science/09VIRUS-BRAINS1/09VIRUS-BRAINS1-thumbStandard.jpg', 'format': 'Standard Thumbnail', 'height': 75, 'width': 75}, {'url': 'https://static01.nyt.com/images/2020/09/09/science/09VIRUS-BRAINS1/09VIRUS-BRAINS1-mediumThreeByTwo210.jpg', 'format': 'mediumThreeByTwo210', 'height': 140, 'width': 210}, {'url': 'https://static01.nyt.com/images/2020/09/09/science/09VIRUS-BRAINS1/09VIRUS-BRAINS1-mediumThreeByTwo440.jpg', 'format': 'mediumThreeByTwo440', 'height': 293, 'width': 440}]}], 'eta_id': 0}, {'uri': 'nyt://article/80b21e7a-96e2-5ba3-b7cf-6f127cdad5a6', 'url': 'https://www.nytimes.com/article/breonna-taylor-police.html', 'id': 100000007165120, 'asset_id': 100000007165120, 'source': 'New York Times', 'published_date': '2020-05-30', 'updated': '2020-09-05 16:16:18', 'section': 'U.S.', 'subsection': '', 'nytdsection': 'u.s.', 'adx_keywords': 'Black People;Police Brutality, Misconduct and Shootings;Black Lives Matter Movement;Demonstrations, Protests and Riots;George Floyd Protests (2020);Taylor, Breonna (1993-2020);Louisville (Ky)', 'column': None, 'byline': 'By Richard A. Oppel Jr. and Derrick Bryson Taylor', 'type': 'Article', 'title': 'Here’s What You Need to Know About Breonna Taylor’s Death', 'abstract': 'Fury over the killing of Ms. Taylor by the police fueled tense demonstrations in Louisville, Ky., and elsewhere.', 'des_facet': ['Black People', 'Police Brutality, Misconduct and Shootings', 'Black Lives Matter Movement', 'Demonstrations, Protests and Riots', 'George Floyd Protests (2020)'], 'org_facet': [], 'per_facet': ['Taylor, Breonna (1993-2020)'], 'geo_facet': ['Louisville (Ky)'], 'media': [{'type': 'image', 'subtype': 'photo', 'caption': 'Protesters clash with the police on Friday in Louisville, Ky. They were calling for police accountability in the fatal shooting of Breonna Taylor.', 'copyright': 'Whitney Curtis for The New York Times', 'approved_for_syndication': 1, 'media-metadata': [{'url': 'https://static01.nyt.com/images/2020/05/30/us/30taylor-explainer-4/30taylor-explainer-4-thumbStandard.jpg', 'format': 'Standard Thumbnail', 'height': 75, 'width': 75}, {'url': 'https://static01.nyt.com/images/2020/05/30/us/30taylor-explainer-4/merlin_172977372_7e31b4e4-9c60-4aed-ae79-73ee1a068f6f-mediumThreeByTwo210.jpg', 'format': 'mediumThreeByTwo210', 'height': 140, 'width': 210}, {'url': 'https://static01.nyt.com/images/2020/05/30/us/30taylor-explainer-4/merlin_172977372_7e31b4e4-9c60-4aed-ae79-73ee1a068f6f-mediumThreeByTwo440.jpg', 'format': 'mediumThreeByTwo440', 'height': 293, 'width': 440}]}], 'eta_id': 0}, {'uri': 'nyt://article/73420874-454f-5487-ac11-34386851d27d', 'url': 'https://www.nytimes.com/2020/09/08/world/covid-19-coronavirus.html', 'id': 100000007328505, 'asset_id': 100000007328505, 'source': 'New York Times', 'published_date': '2020-09-08', 'updated': '2020-09-15 07:44:19', 'section': 'World', 'subsection': '', 'nytdsection': 'world', 'adx_keywords': 'Coronavirus (2019-nCoV)', 'column': None, 'byline': '', 'type': 'Article', 'title': 'Drugmaker Pauses Covid-19 Vaccine Trial for Safety Review', 'abstract': 'Britain is expected to limit most social gatherings to six people after a spike in cases. A political uproar quashed plans for targeted lockdowns in Israel. People caught maskless in Indonesia were told to lie in a coffin as punishment.', 'des_facet': ['Coronavirus (2019-nCoV)'], 'org_facet': [], 'per_facet': [], 'geo_facet': [], 'media': [{'type': 'image', 'subtype': 'photo', 'caption': '', 'copyright': 'The New York Times', 'approved_for_syndication': 1, 'media-metadata': [{'url': 'https://static01.nyt.com/images/2020/08/03/us/us-briefing-promo-image-print/us-briefing-promo-image-thumbStandard-v2.jpg', 'format': 'Standard Thumbnail', 'height': 75, 'width': 75}, {'url': 'https://static01.nyt.com/images/2020/08/03/us/us-briefing-promo-image-print/us-briefing-promo-image-mediumThreeByTwo210.jpg', 'format': 'mediumThreeByTwo210', 'height': 140, 'width': 210}, {'url': 'https://static01.nyt.com/images/2020/08/03/us/us-briefing-promo-image-print/us-briefing-promo-image-mediumThreeByTwo440.jpg', 'format': 'mediumThreeByTwo440', 'height': 293, 'width': 440}]}], 'eta_id': 0}, {'uri': 'nyt://article/24aafd58-cda1-53d0-ad0e-3b10aa60624a', 'url': 'https://www.nytimes.com/2020/09/08/nyregion/rochester-police-chief-resigns-prude.html', 'id': 100000007330051, 'asset_id': 100000007330051, 'source': 'New York Times', 'published_date': '2020-09-08', 'updated': '2020-09-14 20:21:30', 'section': 'New York', 'subsection': '', 'nytdsection': 'new york', 'adx_keywords': \"Police Brutality, Misconduct and Shootings;Appointments and Executive Changes;Black Lives Matter Movement;Prude, Daniel (d 2020);Singletary, La'Ron D;Morabito, Joseph M;Warren, Lovely A;Police Department (Rochester, NY);Rochester (NY)\", 'column': None, 'byline': 'By Edgar Sandoval and Michael Wilson', 'type': 'Article', 'title': 'Rochester Police Chief Resigns After Accusations of Cover-Up in Prude Case', 'abstract': 'Rochester’s mayor said the police chief and the entire police command were stepping down, days after the state attorney general said a grand jury would look into the death of Daniel Prude.', 'des_facet': ['Police Brutality, Misconduct and Shootings', 'Appointments and Executive Changes', 'Black Lives Matter Movement'], 'org_facet': ['Police Department (Rochester, NY)'], 'per_facet': ['Prude, Daniel (d 2020)', \"Singletary, La'Ron D\", 'Morabito, Joseph M', 'Warren, Lovely A'], 'geo_facet': ['Rochester (NY)'], 'media': [], 'eta_id': 0}, {'uri': 'nyt://article/304423f5-8b61-5f3c-bddf-70eb05202f13', 'url': 'https://www.nytimes.com/2020/09/08/us/wildfires-live-updates.html', 'id': 100000007329072, 'asset_id': 100000007329072, 'source': 'New York Times', 'published_date': '2020-09-08', 'updated': '2020-09-15 09:28:28', 'section': 'U.S.', 'subsection': '', 'nytdsection': 'u.s.', 'adx_keywords': 'Wildfires;Cal Fire;California;Sierra National Forest (Calif)', 'column': None, 'byline': '', 'type': 'Article', 'title': 'Wildfires Lead to Helicopter Rescues in California and Destruction in Washington', 'abstract': 'Extreme weather battered the Western United States on Tuesday, with fires along the Pacific Coast and snow falling in Colorado.', 'des_facet': ['Wildfires'], 'org_facet': ['Cal Fire'], 'per_facet': [], 'geo_facet': ['California', 'Sierra National Forest (Calif)'], 'media': [], 'eta_id': 0}, {'uri': 'nyt://article/ab4a1c1f-41db-565d-8e20-fd6a67eda4a4', 'url': 'https://www.nytimes.com/2020/09/13/us/Wildfires-Oregon-California-Washington.html', 'id': 100000007338551, 'asset_id': 100000007338551, 'source': 'New York Times', 'published_date': '2020-09-13', 'updated': '2020-09-14 08:58:38', 'section': 'U.S.', 'subsection': '', 'nytdsection': 'u.s.', 'adx_keywords': 'Wildfires;California;Oregon;Paradise (Calif);Washington (State)', 'column': None, 'byline': 'By Thomas Fuller and Jack Healy', 'type': 'Article', 'title': 'As Wildfires Burn Out of Control, the West Coast Faces the Unimaginable', 'abstract': 'Firefighters across California and Oregon are bracing for stronger winds that could partly clear the air — but also fan the flames of uncontrolled blazes.', 'des_facet': ['Wildfires'], 'org_facet': [], 'per_facet': [], 'geo_facet': ['California', 'Oregon', 'Paradise (Calif)', 'Washington (State)'], 'media': [{'type': 'image', 'subtype': 'photo', 'caption': 'A firefighter watches a controlled burn at the Bear Fire in Big Bend, Calif. on Saturday.', 'copyright': 'Christian Monterrosa for The New York Times', 'approved_for_syndication': 1, 'media-metadata': [{'url': 'https://static01.nyt.com/images/2020/09/13/us/13WILDFIRES-1/13WILDFIRES-1-thumbStandard.jpg', 'format': 'Standard Thumbnail', 'height': 75, 'width': 75}, {'url': 'https://static01.nyt.com/images/2020/09/13/us/13WILDFIRES-1/merlin_176943531_808ec709-2f58-4775-95ce-a27c1f7a82e4-mediumThreeByTwo210.jpg', 'format': 'mediumThreeByTwo210', 'height': 140, 'width': 210}, {'url': 'https://static01.nyt.com/images/2020/09/13/us/13WILDFIRES-1/merlin_176943531_808ec709-2f58-4775-95ce-a27c1f7a82e4-mediumThreeByTwo440.jpg', 'format': 'mediumThreeByTwo440', 'height': 293, 'width': 440}]}], 'eta_id': 0}, {'uri': 'nyt://article/4aa15524-32cc-570a-b90a-743f45918ce9', 'url': 'https://www.nytimes.com/2020/09/10/health/university-illinois-covid.html', 'id': 100000007332102, 'asset_id': 100000007332102, 'source': 'New York Times', 'published_date': '2020-09-10', 'updated': '2020-09-14 22:18:17', 'section': 'Health', 'subsection': '', 'nytdsection': 'health', 'adx_keywords': 'Coronavirus (2019-nCoV);Colleges and Universities;Fraternities and Sororities;Tests (Medical);Parties (Social);Physics;Disease Rates;Coronavirus Reopenings;University of Illinois, Urbana-Champaign;xkcd', 'column': None, 'byline': 'By Kenneth Chang', 'type': 'Article', 'title': 'A University Had a Great Coronavirus Plan, but Students Partied On', 'abstract': 'An unexpected upswing in positive tests at the University of Illinois at Urbana-Champaign showed how even the most comprehensive approaches to limiting the virus’s spread can break down.', 'des_facet': ['Coronavirus (2019-nCoV)', 'Colleges and Universities', 'Fraternities and Sororities', 'Tests (Medical)', 'Parties (Social)', 'Physics', 'Disease Rates', 'Coronavirus Reopenings'], 'org_facet': ['University of Illinois, Urbana-Champaign', 'xkcd'], 'per_facet': [], 'geo_facet': [], 'media': [{'type': 'image', 'subtype': 'photo', 'caption': '&ldquo;It was willful noncompliance by a small group of people,&rdquo; said one university physicist.', 'copyright': 'Elizabeth Given/Alamy', 'approved_for_syndication': 1, 'media-metadata': [{'url': 'https://static01.nyt.com/images/2020/09/15/science/10VIRUS-ILLINOIS1/10VIRUS-ILLINOIS1-thumbStandard.jpg', 'format': 'Standard Thumbnail', 'height': 75, 'width': 75}, {'url': 'https://static01.nyt.com/images/2020/09/15/science/10VIRUS-ILLINOIS1/10VIRUS-ILLINOIS1-mediumThreeByTwo210.jpg', 'format': 'mediumThreeByTwo210', 'height': 140, 'width': 210}, {'url': 'https://static01.nyt.com/images/2020/09/15/science/10VIRUS-ILLINOIS1/10VIRUS-ILLINOIS1-mediumThreeByTwo440.jpg', 'format': 'mediumThreeByTwo440', 'height': 293, 'width': 440}]}], 'eta_id': 0}, {'uri': 'nyt://article/9440e6d4-ed93-5adb-a7a7-8d21f5f30909', 'url': 'https://www.nytimes.com/2020/09/08/dining/grocery-shopping-coronavirus.html', 'id': 100000007322799, 'asset_id': 100000007322799, 'source': 'New York Times', 'published_date': '2020-09-08', 'updated': '2020-09-12 18:29:55', 'section': 'Food', 'subsection': '', 'nytdsection': 'food', 'adx_keywords': 'Quarantine (Life and Culture);Supermarkets and Grocery Stores;Food;Delivery Services;Health Foods;Local Food;Oranges;Frozen Foods;United States', 'column': None, 'byline': 'By Kim Severson', 'type': 'Article', 'title': '7 Ways the Pandemic Has Changed How We Shop for Food', 'abstract': 'Oranges and frozen foods are being snapped up. Shelves have fewer choices. And customers are steering their carts in surprising new directions.', 'des_facet': ['Quarantine (Life and Culture)', 'Supermarkets and Grocery Stores', 'Food', 'Delivery Services', 'Health Foods', 'Local Food', 'Oranges', 'Frozen Foods'], 'org_facet': [], 'per_facet': [], 'geo_facet': ['United States'], 'media': [{'type': 'image', 'subtype': 'photo', 'caption': 'Several grocery chains (including Kroger, here) have used the shift in pandemic shopping habits to install more self-serve kiosks and explore other touchless checkout methods.', 'copyright': 'Andrew Spear for The New York Times', 'approved_for_syndication': 1, 'media-metadata': [{'url': 'https://static01.nyt.com/images/2020/09/09/dining/08grocery15/08grocery15-thumbStandard.jpg', 'format': 'Standard Thumbnail', 'height': 75, 'width': 75}, {'url': 'https://static01.nyt.com/images/2020/09/09/dining/08grocery15/08grocery15-mediumThreeByTwo210-v2.jpg', 'format': 'mediumThreeByTwo210', 'height': 140, 'width': 210}, {'url': 'https://static01.nyt.com/images/2020/09/09/dining/08grocery15/08grocery15-mediumThreeByTwo440-v2.jpg', 'format': 'mediumThreeByTwo440', 'height': 293, 'width': 440}]}], 'eta_id': 0}, {'uri': 'nyt://article/9ba5dccf-8655-5862-a0c3-74db08526d88', 'url': 'https://www.nytimes.com/2020/09/12/movies/cuties-netflix.html', 'id': 100000007337517, 'asset_id': 100000007337517, 'source': 'New York Times', 'published_date': '2020-09-12', 'updated': '2020-09-14 21:09:00', 'section': 'Movies', 'subsection': '', 'nytdsection': 'movies', 'adx_keywords': 'Movies;Doucoure, Maimouna;Netflix Inc', 'column': None, 'byline': 'By Christina Morales', 'type': 'Article', 'title': '‘Cuties’ Sparks a Firestorm, Again, After Its Netflix Release', 'abstract': 'Several members of Congress have weighed in on the award-winning film, including to call for its removal from Netflix or a Justice Department investigation.', 'des_facet': ['Movies'], 'org_facet': ['Netflix Inc'], 'per_facet': ['Doucoure, Maimouna'], 'geo_facet': [], 'media': [{'type': 'image', 'subtype': 'photo', 'caption': '“Cuties” tells the story of Amy (Fathia Youssouf), a young daughter of Senegalese immigrants struggling to find her place growing up on the outskirts of Paris.', 'copyright': 'Netflix', 'approved_for_syndication': 0, 'media-metadata': [{'url': 'https://static01.nyt.com/images/2020/09/12/multimedia/12cuties2/12cuties2-thumbStandard-v2.jpg', 'format': 'Standard Thumbnail', 'height': 75, 'width': 75}, {'url': 'https://static01.nyt.com/images/2020/09/12/multimedia/12cuties2/12cuties2-mediumThreeByTwo210-v3.jpg', 'format': 'mediumThreeByTwo210', 'height': 140, 'width': 210}, {'url': 'https://static01.nyt.com/images/2020/09/12/multimedia/12cuties2/12cuties2-mediumThreeByTwo440-v3.jpg', 'format': 'mediumThreeByTwo440', 'height': 293, 'width': 440}]}], 'eta_id': 0}, {'uri': 'nyt://article/21deb55c-e4a5-5d97-bbfd-0dd5421d981f', 'url': 'https://www.nytimes.com/2020/09/09/us/politics/woodward-trump-rage-takeaways.html', 'id': 100000007332197, 'asset_id': 100000007332197, 'source': 'New York Times', 'published_date': '2020-09-09', 'updated': '2020-09-10 20:34:45', 'section': 'U.S.', 'subsection': 'Politics', 'nytdsection': 'u.s.', 'adx_keywords': 'United States Politics and Government;Coronavirus (2019-nCoV);Black People;United States Defense and Military Forces;United States International Relations;Woodward, Bob;Trump, Donald J;Coats, Dan;Mattis, James N;Kim Jong-un;Putin, Vladimir V;Russia;North Korea;United States', 'column': None, 'byline': 'By Aishvarya Kavi', 'type': 'Article', 'title': '5 Takeaways From ‘Rage,’ Bob Woodward’s New Book About Trump', 'abstract': 'Mr. Woodward reveals that President Trump sought to play down the severity of the coronavirus and repeatedly denigrated the U.S. military.', 'des_facet': ['United States Politics and Government', 'Coronavirus (2019-nCoV)', 'Black People', 'United States Defense and Military Forces', 'United States International Relations'], 'org_facet': [], 'per_facet': ['Woodward, Bob', 'Trump, Donald J', 'Coats, Dan', 'Mattis, James N', 'Kim Jong-un', 'Putin, Vladimir V'], 'geo_facet': ['Russia', 'North Korea', 'United States'], 'media': [{'type': 'image', 'subtype': 'photo', 'caption': 'President Trump described his chemistry with the North Korean leader, Kim Jong-un, to the journalist Bob Woodward, saying:\\xa0“You meet a woman. In one second, you know whether or not it’s going to happen.”\\xa0', 'copyright': 'Erin Schaff/The New York Times', 'approved_for_syndication': 1, 'media-metadata': [{'url': 'https://static01.nyt.com/images/2020/09/09/us/politics/09dc-takeaways1/merlin_157241838_1fd9a832-0b1c-4629-8284-687391bc83cf-thumbStandard.jpg', 'format': 'Standard Thumbnail', 'height': 75, 'width': 75}, {'url': 'https://static01.nyt.com/images/2020/09/09/us/politics/09dc-takeaways1/merlin_157241838_1fd9a832-0b1c-4629-8284-687391bc83cf-mediumThreeByTwo210.jpg', 'format': 'mediumThreeByTwo210', 'height': 140, 'width': 210}, {'url': 'https://static01.nyt.com/images/2020/09/09/us/politics/09dc-takeaways1/merlin_157241838_1fd9a832-0b1c-4629-8284-687391bc83cf-mediumThreeByTwo440.jpg', 'format': 'mediumThreeByTwo440', 'height': 293, 'width': 440}]}], 'eta_id': 0}]\n"
          ],
          "name": "stdout"
        }
      ]
    },
    {
      "cell_type": "code",
      "metadata": {
        "id": "DYhtbrQRd8qA",
        "colab_type": "code",
        "colab": {
          "base_uri": "https://localhost:8080/",
          "height": 813
        },
        "outputId": "31f9dd6f-e075-4cba-c91a-c68723505a79"
      },
      "source": [
        "df = pd.DataFrame(data)\n",
        "df.head(7)"
      ],
      "execution_count": 16,
      "outputs": [
        {
          "output_type": "execute_result",
          "data": {
            "text/html": [
              "<div>\n",
              "<style scoped>\n",
              "    .dataframe tbody tr th:only-of-type {\n",
              "        vertical-align: middle;\n",
              "    }\n",
              "\n",
              "    .dataframe tbody tr th {\n",
              "        vertical-align: top;\n",
              "    }\n",
              "\n",
              "    .dataframe thead th {\n",
              "        text-align: right;\n",
              "    }\n",
              "</style>\n",
              "<table border=\"1\" class=\"dataframe\">\n",
              "  <thead>\n",
              "    <tr style=\"text-align: right;\">\n",
              "      <th></th>\n",
              "      <th>uri</th>\n",
              "      <th>url</th>\n",
              "      <th>id</th>\n",
              "      <th>asset_id</th>\n",
              "      <th>source</th>\n",
              "      <th>published_date</th>\n",
              "      <th>updated</th>\n",
              "      <th>section</th>\n",
              "      <th>subsection</th>\n",
              "      <th>nytdsection</th>\n",
              "      <th>adx_keywords</th>\n",
              "      <th>column</th>\n",
              "      <th>byline</th>\n",
              "      <th>type</th>\n",
              "      <th>title</th>\n",
              "      <th>abstract</th>\n",
              "      <th>des_facet</th>\n",
              "      <th>org_facet</th>\n",
              "      <th>per_facet</th>\n",
              "      <th>geo_facet</th>\n",
              "      <th>media</th>\n",
              "      <th>eta_id</th>\n",
              "    </tr>\n",
              "  </thead>\n",
              "  <tbody>\n",
              "    <tr>\n",
              "      <th>0</th>\n",
              "      <td>nyt://article/aad3923b-ed52-582d-be30-d016f3b8...</td>\n",
              "      <td>https://www.nytimes.com/2020/09/08/nyregion/do...</td>\n",
              "      <td>100000007330554</td>\n",
              "      <td>100000007330554</td>\n",
              "      <td>New York Times</td>\n",
              "      <td>2020-09-08</td>\n",
              "      <td>2020-09-09 17:12:26</td>\n",
              "      <td>New York</td>\n",
              "      <td></td>\n",
              "      <td>new york</td>\n",
              "      <td>Suits and Litigation (Civil);Sex Crimes;Libel ...</td>\n",
              "      <td>None</td>\n",
              "      <td>By Alan Feuer</td>\n",
              "      <td>Article</td>\n",
              "      <td>Justice Dept. Intervenes to Help Trump in E. J...</td>\n",
              "      <td>Government lawyers made the unusual move of se...</td>\n",
              "      <td>[Suits and Litigation (Civil), Sex Crimes, Lib...</td>\n",
              "      <td>[Justice Department]</td>\n",
              "      <td>[Trump, Donald J, Carroll, E Jean]</td>\n",
              "      <td>[Manhattan (NYC)]</td>\n",
              "      <td>[{'type': 'image', 'subtype': 'photo', 'captio...</td>\n",
              "      <td>0</td>\n",
              "    </tr>\n",
              "    <tr>\n",
              "      <th>1</th>\n",
              "      <td>nyt://article/6f127ce3-5c24-52e0-a39e-3ca00c1e...</td>\n",
              "      <td>https://www.nytimes.com/2020/09/14/science/ven...</td>\n",
              "      <td>100000007331580</td>\n",
              "      <td>100000007331580</td>\n",
              "      <td>New York Times</td>\n",
              "      <td>2020-09-14</td>\n",
              "      <td>2020-09-15 07:24:53</td>\n",
              "      <td>Science</td>\n",
              "      <td></td>\n",
              "      <td>science</td>\n",
              "      <td>Venus (Planet);Extraterrestrial Life;Biology a...</td>\n",
              "      <td>None</td>\n",
              "      <td>By Shannon Stirone, Kenneth Chang and Dennis O...</td>\n",
              "      <td>Article</td>\n",
              "      <td>Life on Venus? Astronomers See a Signal in Its...</td>\n",
              "      <td>The detection of a gas in the planet’s atmosph...</td>\n",
              "      <td>[Venus (Planet), Extraterrestrial Life, Biolog...</td>\n",
              "      <td>[]</td>\n",
              "      <td>[]</td>\n",
              "      <td>[]</td>\n",
              "      <td>[{'type': 'image', 'subtype': 'photo', 'captio...</td>\n",
              "      <td>0</td>\n",
              "    </tr>\n",
              "    <tr>\n",
              "      <th>2</th>\n",
              "      <td>nyt://article/9de705e6-9add-5488-91ed-6c232911...</td>\n",
              "      <td>https://www.nytimes.com/2018/02/28/world/europ...</td>\n",
              "      <td>100000005770803</td>\n",
              "      <td>100000005770803</td>\n",
              "      <td>New York Times</td>\n",
              "      <td>2018-02-28</td>\n",
              "      <td>2020-09-11 23:17:42</td>\n",
              "      <td>World</td>\n",
              "      <td>Europe</td>\n",
              "      <td>world</td>\n",
              "      <td>Forgery;Nobel Prizes;United States Politics an...</td>\n",
              "      <td>None</td>\n",
              "      <td>By Henrik Pryser Libell</td>\n",
              "      <td>Article</td>\n",
              "      <td>From 2018: Trump’s Nomination for the Nobel Pe...</td>\n",
              "      <td>The police in Oslo said they were in contact w...</td>\n",
              "      <td>[Forgery, Nobel Prizes, United States Politics...</td>\n",
              "      <td>[Norwegian Nobel Committee]</td>\n",
              "      <td>[Trump, Donald J]</td>\n",
              "      <td>[Norway]</td>\n",
              "      <td>[{'type': 'image', 'subtype': 'photo', 'captio...</td>\n",
              "      <td>0</td>\n",
              "    </tr>\n",
              "    <tr>\n",
              "      <th>3</th>\n",
              "      <td>nyt://article/35f34de9-8845-53ca-857b-2b5a8740...</td>\n",
              "      <td>https://www.nytimes.com/2020/09/11/us/wildfire...</td>\n",
              "      <td>100000007335507</td>\n",
              "      <td>100000007335507</td>\n",
              "      <td>New York Times</td>\n",
              "      <td>2020-09-11</td>\n",
              "      <td>2020-09-15 09:23:34</td>\n",
              "      <td>U.S.</td>\n",
              "      <td></td>\n",
              "      <td>u.s.</td>\n",
              "      <td>Wildfires;Fires and Firefighters;Evacuations a...</td>\n",
              "      <td>None</td>\n",
              "      <td></td>\n",
              "      <td>Article</td>\n",
              "      <td>Suspect Is Charged With Arson in Oregon Wildfire</td>\n",
              "      <td>Oregon’s governor said there were concerns for...</td>\n",
              "      <td>[Wildfires, Fires and Firefighters, Evacuation...</td>\n",
              "      <td>[]</td>\n",
              "      <td>[]</td>\n",
              "      <td>[California, Washington (State), Portland (Ore...</td>\n",
              "      <td>[]</td>\n",
              "      <td>0</td>\n",
              "    </tr>\n",
              "    <tr>\n",
              "      <th>4</th>\n",
              "      <td>nyt://article/a42750d6-5b61-5698-b0b8-b34ce835...</td>\n",
              "      <td>https://www.nytimes.com/2020/09/07/us/politics...</td>\n",
              "      <td>100000007317029</td>\n",
              "      <td>100000007317029</td>\n",
              "      <td>New York Times</td>\n",
              "      <td>2020-09-07</td>\n",
              "      <td>2020-09-10 20:54:11</td>\n",
              "      <td>U.S.</td>\n",
              "      <td>Politics</td>\n",
              "      <td>u.s.</td>\n",
              "      <td>Presidential Election of 2020;Campaign Finance...</td>\n",
              "      <td>None</td>\n",
              "      <td>By Shane Goldmacher and Maggie Haberman</td>\n",
              "      <td>Article</td>\n",
              "      <td>How Trump’s Billion-Dollar Campaign Lost Its C...</td>\n",
              "      <td>Five months ago, President Trump’s re-election...</td>\n",
              "      <td>[Presidential Election of 2020, Campaign Finan...</td>\n",
              "      <td>[Republican National Committee, Republican Party]</td>\n",
              "      <td>[Biden, Joseph R Jr, Dershowitz, Alan M, Parsc...</td>\n",
              "      <td>[]</td>\n",
              "      <td>[{'type': 'image', 'subtype': 'photo', 'captio...</td>\n",
              "      <td>0</td>\n",
              "    </tr>\n",
              "    <tr>\n",
              "      <th>5</th>\n",
              "      <td>nyt://article/4638277a-4fda-5738-ba27-45b4398f...</td>\n",
              "      <td>https://www.nytimes.com/2020/09/09/opinion/uni...</td>\n",
              "      <td>100000007332239</td>\n",
              "      <td>100000007332239</td>\n",
              "      <td>New York Times</td>\n",
              "      <td>2020-09-09</td>\n",
              "      <td>2020-09-10 23:26:45</td>\n",
              "      <td>Opinion</td>\n",
              "      <td></td>\n",
              "      <td>opinion</td>\n",
              "      <td>Third World and Developing Countries;Education...</td>\n",
              "      <td>None</td>\n",
              "      <td>By Nicholas Kristof</td>\n",
              "      <td>Article</td>\n",
              "      <td>‘We’re No. 28! And Dropping!’</td>\n",
              "      <td>A measure of social progress finds that the qu...</td>\n",
              "      <td>[Third World and Developing Countries, Educati...</td>\n",
              "      <td>[]</td>\n",
              "      <td>[]</td>\n",
              "      <td>[United States]</td>\n",
              "      <td>[{'type': 'image', 'subtype': 'photo', 'captio...</td>\n",
              "      <td>0</td>\n",
              "    </tr>\n",
              "    <tr>\n",
              "      <th>6</th>\n",
              "      <td>nyt://article/55f66292-3c58-59ca-be04-04b1e506...</td>\n",
              "      <td>https://www.nytimes.com/2020/09/07/us/gender-r...</td>\n",
              "      <td>100000007328020</td>\n",
              "      <td>100000007328020</td>\n",
              "      <td>New York Times</td>\n",
              "      <td>2020-09-07</td>\n",
              "      <td>2020-09-14 10:00:09</td>\n",
              "      <td>U.S.</td>\n",
              "      <td></td>\n",
              "      <td>u.s.</td>\n",
              "      <td>Wildfires;Fires and Firefighters;Parties (Soci...</td>\n",
              "      <td>None</td>\n",
              "      <td>By Christina Morales and Allyson Waller</td>\n",
              "      <td>Article</td>\n",
              "      <td>A Gender-Reveal Celebration Is Blamed for a Wi...</td>\n",
              "      <td>The El Dorado fire in California ignited as a ...</td>\n",
              "      <td>[Wildfires, Fires and Firefighters, Parties (S...</td>\n",
              "      <td>[]</td>\n",
              "      <td>[]</td>\n",
              "      <td>[California, Arizona, Iowa]</td>\n",
              "      <td>[{'type': 'image', 'subtype': 'photo', 'captio...</td>\n",
              "      <td>0</td>\n",
              "    </tr>\n",
              "  </tbody>\n",
              "</table>\n",
              "</div>"
            ],
            "text/plain": [
              "                                                 uri  ... eta_id\n",
              "0  nyt://article/aad3923b-ed52-582d-be30-d016f3b8...  ...      0\n",
              "1  nyt://article/6f127ce3-5c24-52e0-a39e-3ca00c1e...  ...      0\n",
              "2  nyt://article/9de705e6-9add-5488-91ed-6c232911...  ...      0\n",
              "3  nyt://article/35f34de9-8845-53ca-857b-2b5a8740...  ...      0\n",
              "4  nyt://article/a42750d6-5b61-5698-b0b8-b34ce835...  ...      0\n",
              "5  nyt://article/4638277a-4fda-5738-ba27-45b4398f...  ...      0\n",
              "6  nyt://article/55f66292-3c58-59ca-be04-04b1e506...  ...      0\n",
              "\n",
              "[7 rows x 22 columns]"
            ]
          },
          "metadata": {
            "tags": []
          },
          "execution_count": 16
        }
      ]
    },
    {
      "cell_type": "code",
      "metadata": {
        "id": "Za2gq-VngfW4",
        "colab_type": "code",
        "colab": {}
      },
      "source": [
        "my_data={'published_date':[],'byline':[],'title':[],'abstract':[]}"
      ],
      "execution_count": 24,
      "outputs": []
    },
    {
      "cell_type": "code",
      "metadata": {
        "id": "21eqL4_IgqJR",
        "colab_type": "code",
        "colab": {
          "base_uri": "https://localhost:8080/",
          "height": 54
        },
        "outputId": "efda5d10-0971-44f8-df01-9679d630f33a"
      },
      "source": [
        "pop_articles=response['results']\n",
        "print(pop_articles)"
      ],
      "execution_count": 25,
      "outputs": [
        {
          "output_type": "stream",
          "text": [
            "[{'uri': 'nyt://article/aad3923b-ed52-582d-be30-d016f3b8f737', 'url': 'https://www.nytimes.com/2020/09/08/nyregion/donald-trump-jean-carroll-lawsuit-rape.html', 'id': 100000007330554, 'asset_id': 100000007330554, 'source': 'New York Times', 'published_date': '2020-09-08', 'updated': '2020-09-09 17:12:26', 'section': 'New York', 'subsection': '', 'nytdsection': 'new york', 'adx_keywords': 'Suits and Litigation (Civil);Sex Crimes;Libel and Slander;Immunity from Prosecution;Presidential Election of 2020;Trump, Donald J;Carroll, E Jean;Justice Department;Manhattan (NYC)', 'column': None, 'byline': 'By Alan Feuer', 'type': 'Article', 'title': 'Justice Dept. Intervenes to Help Trump in E. Jean Carroll Defamation Lawsuit', 'abstract': 'Government lawyers made the unusual move of seeking to take over President Trump’s defense in a suit brought by Ms. Carroll, who has accused Mr. Trump of raping her in the 1990s.', 'des_facet': ['Suits and Litigation (Civil)', 'Sex Crimes', 'Libel and Slander', 'Immunity from Prosecution', 'Presidential Election of 2020'], 'org_facet': ['Justice Department'], 'per_facet': ['Trump, Donald J', 'Carroll, E Jean'], 'geo_facet': ['Manhattan (NYC)'], 'media': [{'type': 'image', 'subtype': 'photo', 'caption': 'E. Jean Carroll, a writer who has accused President Trump of raping her, sued him last November, claiming that he lied by publicly denying he had ever met her.', 'copyright': 'Jefferson Siegel for The New York Times', 'approved_for_syndication': 1, 'media-metadata': [{'url': 'https://static01.nyt.com/images/2020/09/09/nyregion/08nytrump/08nytrump-thumbStandard.jpg', 'format': 'Standard Thumbnail', 'height': 75, 'width': 75}, {'url': 'https://static01.nyt.com/images/2020/09/09/nyregion/08nytrump/08nytrump-mediumThreeByTwo210-v2.jpg', 'format': 'mediumThreeByTwo210', 'height': 140, 'width': 210}, {'url': 'https://static01.nyt.com/images/2020/09/09/nyregion/08nytrump/08nytrump-mediumThreeByTwo440-v2.jpg', 'format': 'mediumThreeByTwo440', 'height': 293, 'width': 440}]}], 'eta_id': 0}, {'uri': 'nyt://article/6f127ce3-5c24-52e0-a39e-3ca00c1e1d1a', 'url': 'https://www.nytimes.com/2020/09/14/science/venus-life-clouds.html', 'id': 100000007331580, 'asset_id': 100000007331580, 'source': 'New York Times', 'published_date': '2020-09-14', 'updated': '2020-09-15 07:24:53', 'section': 'Science', 'subsection': '', 'nytdsection': 'science', 'adx_keywords': 'Venus (Planet);Extraterrestrial Life;Biology and Biochemistry;Research;Telescopes and Observatories;Microbiology;Space and Astronomy', 'column': None, 'byline': 'By Shannon Stirone, Kenneth Chang and Dennis Overbye', 'type': 'Article', 'title': 'Life on Venus? Astronomers See a Signal in Its Clouds', 'abstract': 'The detection of a gas in the planet’s atmosphere could turn scientists’ gaze to a planet long overlooked in the search for extraterrestrial life.', 'des_facet': ['Venus (Planet)', 'Extraterrestrial Life', 'Biology and Biochemistry', 'Research', 'Telescopes and Observatories', 'Microbiology', 'Space and Astronomy'], 'org_facet': [], 'per_facet': [], 'geo_facet': [], 'media': [{'type': 'image', 'subtype': 'photo', 'caption': 'An image of Venus, made with data recorded by Japan’s Akatsuki spacecraft in 2016. So close, so similar and very mysterious, the planet is surprising scientists with a chemical signature spotted in its clouds.', 'copyright': 'PLANET-C Project Team/JAXA', 'approved_for_syndication': 1, 'media-metadata': [{'url': 'https://static01.nyt.com/images/2020/09/14/science/14SCI-VENUS1-alt/14SCI-VENUS1-alt-thumbStandard.jpg', 'format': 'Standard Thumbnail', 'height': 75, 'width': 75}, {'url': 'https://static01.nyt.com/images/2020/09/14/science/14SCI-VENUS1-alt/14SCI-VENUS1-alt-mediumThreeByTwo210.jpg', 'format': 'mediumThreeByTwo210', 'height': 140, 'width': 210}, {'url': 'https://static01.nyt.com/images/2020/09/14/science/14SCI-VENUS1-alt/14SCI-VENUS1-alt-mediumThreeByTwo440.jpg', 'format': 'mediumThreeByTwo440', 'height': 293, 'width': 440}]}], 'eta_id': 0}, {'uri': 'nyt://article/9de705e6-9add-5488-91ed-6c2329113666', 'url': 'https://www.nytimes.com/2018/02/28/world/europe/nobel-peace-prize-trump-fake-nomination.html', 'id': 100000005770803, 'asset_id': 100000005770803, 'source': 'New York Times', 'published_date': '2018-02-28', 'updated': '2020-09-11 23:17:42', 'section': 'World', 'subsection': 'Europe', 'nytdsection': 'world', 'adx_keywords': 'Forgery;Nobel Prizes;United States Politics and Government;Trump, Donald J;Norwegian Nobel Committee;Norway', 'column': None, 'byline': 'By Henrik Pryser Libell', 'type': 'Article', 'title': 'From 2018: Trump’s Nomination for the Nobel Peace Prize Was Apparently Forged. Twice.', 'abstract': 'The police in Oslo said they were in contact with the F.B.I. about the forgeries, which suggests that they originated in the United States.', 'des_facet': ['Forgery', 'Nobel Prizes', 'United States Politics and Government'], 'org_facet': ['Norwegian Nobel Committee'], 'per_facet': ['Trump, Donald J'], 'geo_facet': ['Norway'], 'media': [{'type': 'image', 'subtype': 'photo', 'caption': 'Olav Njolstad, the secretary of the five-member Norwegian Nobel Committee, said Wednesday that a nomination of President Trump appeared to be a fake.', 'copyright': 'Nigel Waldron/Getty Images', 'approved_for_syndication': 1, 'media-metadata': [{'url': 'https://static01.nyt.com/images/2018/03/01/world/01NOBEL-01/01NOBEL-01-thumbStandard.jpg', 'format': 'Standard Thumbnail', 'height': 75, 'width': 75}, {'url': 'https://static01.nyt.com/images/2018/03/01/world/01NOBEL-01/merlin_134717175_3b92c4e3-4e7d-4960-b633-15cea1ca10c7-mediumThreeByTwo210.jpg', 'format': 'mediumThreeByTwo210', 'height': 140, 'width': 210}, {'url': 'https://static01.nyt.com/images/2018/03/01/world/01NOBEL-01/merlin_134717175_3b92c4e3-4e7d-4960-b633-15cea1ca10c7-mediumThreeByTwo440.jpg', 'format': 'mediumThreeByTwo440', 'height': 293, 'width': 440}]}], 'eta_id': 0}, {'uri': 'nyt://article/35f34de9-8845-53ca-857b-2b5a87408fe1', 'url': 'https://www.nytimes.com/2020/09/11/us/wildfires-live-updates.html', 'id': 100000007335507, 'asset_id': 100000007335507, 'source': 'New York Times', 'published_date': '2020-09-11', 'updated': '2020-09-15 09:23:34', 'section': 'U.S.', 'subsection': '', 'nytdsection': 'u.s.', 'adx_keywords': 'Wildfires;Fires and Firefighters;Evacuations and Evacuees;California;Washington (State);Portland (Ore);Oregon', 'column': None, 'byline': '', 'type': 'Article', 'title': 'Suspect Is Charged With Arson in Oregon Wildfire', 'abstract': 'Oregon’s governor said there were concerns for dozens of people reported missing in a state where more than a million acres have burned. California and Washington State are also battling fires.', 'des_facet': ['Wildfires', 'Fires and Firefighters', 'Evacuations and Evacuees'], 'org_facet': [], 'per_facet': [], 'geo_facet': ['California', 'Washington (State)', 'Portland (Ore)', 'Oregon'], 'media': [], 'eta_id': 0}, {'uri': 'nyt://article/a42750d6-5b61-5698-b0b8-b34ce83552e1', 'url': 'https://www.nytimes.com/2020/09/07/us/politics/trump-election-campaign-fundraising.html', 'id': 100000007317029, 'asset_id': 100000007317029, 'source': 'New York Times', 'published_date': '2020-09-07', 'updated': '2020-09-10 20:54:11', 'section': 'U.S.', 'subsection': 'Politics', 'nytdsection': 'u.s.', 'adx_keywords': 'Presidential Election of 2020;Campaign Finance;United States Politics and Government;Political Advertising;Biden, Joseph R Jr;Dershowitz, Alan M;Parscale, Brad (1976- );Stepien, Bill;Trump, Donald J;Republican National Committee;Republican Party', 'column': None, 'byline': 'By Shane Goldmacher and Maggie Haberman', 'type': 'Article', 'title': 'How Trump’s Billion-Dollar Campaign Lost Its Cash Advantage', 'abstract': 'Five months ago, President Trump’s re-election campaign had a huge financial edge over Joseph R. Biden Jr.’s. The Times conducted an extensive review of how the Trump team spent lavishly to show how that advantage evaporated.', 'des_facet': ['Presidential Election of 2020', 'Campaign Finance', 'United States Politics and Government', 'Political Advertising'], 'org_facet': ['Republican National Committee', 'Republican Party'], 'per_facet': ['Biden, Joseph R Jr', 'Dershowitz, Alan M', 'Parscale, Brad (1976- )', 'Stepien, Bill', 'Trump, Donald J'], 'geo_facet': [], 'media': [{'type': 'image', 'subtype': 'photo', 'caption': 'A rally for President Trump in Latrobe, Pa., last week. Mr. Trump’s campaign has spent $800 million.', 'copyright': 'Anna Moneymaker for The New York Times', 'approved_for_syndication': 1, 'media-metadata': [{'url': 'https://static01.nyt.com/images/2020/09/04/us/politics/00trump-spending00/00trump-spending00-thumbStandard.jpg', 'format': 'Standard Thumbnail', 'height': 75, 'width': 75}, {'url': 'https://static01.nyt.com/images/2020/09/04/us/politics/00trump-spending00/merlin_176546619_b3fcc086-e036-4cda-98de-7ef93a88e0e6-mediumThreeByTwo210.jpg', 'format': 'mediumThreeByTwo210', 'height': 140, 'width': 210}, {'url': 'https://static01.nyt.com/images/2020/09/04/us/politics/00trump-spending00/merlin_176546619_b3fcc086-e036-4cda-98de-7ef93a88e0e6-mediumThreeByTwo440.jpg', 'format': 'mediumThreeByTwo440', 'height': 293, 'width': 440}]}], 'eta_id': 0}, {'uri': 'nyt://article/4638277a-4fda-5738-ba27-45b4398f29d4', 'url': 'https://www.nytimes.com/2020/09/09/opinion/united-states-social-progress.html', 'id': 100000007332239, 'asset_id': 100000007332239, 'source': 'New York Times', 'published_date': '2020-09-09', 'updated': '2020-09-10 23:26:45', 'section': 'Opinion', 'subsection': '', 'nytdsection': 'opinion', 'adx_keywords': 'Third World and Developing Countries;Education;Coronavirus (2019-nCoV);United States Politics and Government;Discrimination;Mental Health and Disorders;Drug Abuse and Traffic;United States', 'column': None, 'byline': 'By Nicholas Kristof', 'type': 'Article', 'title': '‘We’re No. 28! And Dropping!’', 'abstract': 'A measure of social progress finds that the quality of life has dropped in America over the last decade, even as it has risen almost everywhere else.', 'des_facet': ['Third World and Developing Countries', 'Education', 'Coronavirus (2019-nCoV)', 'United States Politics and Government', 'Discrimination', 'Mental Health and Disorders', 'Drug Abuse and Traffic'], 'org_facet': [], 'per_facet': [], 'geo_facet': ['United States'], 'media': [{'type': 'image', 'subtype': 'photo', 'caption': 'A woman in Pennington Gap, Va., a town that has suffered the ravages of the epidemic of despair.', 'copyright': 'Johnathon Kelso for The New York Times', 'approved_for_syndication': 1, 'media-metadata': [{'url': 'https://static01.nyt.com/images/2020/09/09/opinion/09kristofWeb/merlin_159293178_6c25e43e-0d9d-4d8a-b72c-298dbd7e7f44-thumbStandard.jpg', 'format': 'Standard Thumbnail', 'height': 75, 'width': 75}, {'url': 'https://static01.nyt.com/images/2020/09/09/opinion/09kristofWeb/09kristofWeb-mediumThreeByTwo210.jpg', 'format': 'mediumThreeByTwo210', 'height': 140, 'width': 210}, {'url': 'https://static01.nyt.com/images/2020/09/09/opinion/09kristofWeb/09kristofWeb-mediumThreeByTwo440.jpg', 'format': 'mediumThreeByTwo440', 'height': 293, 'width': 440}]}], 'eta_id': 0}, {'uri': 'nyt://article/55f66292-3c58-59ca-be04-04b1e50676ad', 'url': 'https://www.nytimes.com/2020/09/07/us/gender-reveal-party-wildfire.html', 'id': 100000007328020, 'asset_id': 100000007328020, 'source': 'New York Times', 'published_date': '2020-09-07', 'updated': '2020-09-14 10:00:09', 'section': 'U.S.', 'subsection': '', 'nytdsection': 'u.s.', 'adx_keywords': 'Wildfires;Fires and Firefighters;Parties (Social);Gender;Aviation Accidents, Safety and Disasters;Social Media;Deaths (Fatalities);California;Arizona;Iowa', 'column': None, 'byline': 'By Christina Morales and Allyson Waller', 'type': 'Article', 'title': 'A Gender-Reveal Celebration Is Blamed for a Wildfire. It Isn’t the First Time.', 'abstract': 'The El Dorado fire in California ignited as a family was using a “pyrotechnic device” to announce the gender of a new baby, the authorities said.', 'des_facet': ['Wildfires', 'Fires and Firefighters', 'Parties (Social)', 'Gender', 'Aviation Accidents, Safety and Disasters', 'Social Media', 'Deaths (Fatalities)'], 'org_facet': [], 'per_facet': [], 'geo_facet': ['California', 'Arizona', 'Iowa'], 'media': [{'type': 'image', 'subtype': 'photo', 'caption': 'The authorities said the El Dorado fire near Yucaipa, Calif., started as the result of a gender-reveal party.', 'copyright': 'Ringo H.W. Chiu/Associated Press', 'approved_for_syndication': 1, 'media-metadata': [{'url': 'https://static01.nyt.com/images/2020/09/07/multimedia/07xp-genderreveal-dorado/07xp-genderreveal-dorado-thumbStandard.jpg', 'format': 'Standard Thumbnail', 'height': 75, 'width': 75}, {'url': 'https://static01.nyt.com/images/2020/09/07/multimedia/07xp-genderreveal-dorado/merlin_176697315_a925bac2-f96e-4a4d-b933-1c18f6a9abab-mediumThreeByTwo210.jpg', 'format': 'mediumThreeByTwo210', 'height': 140, 'width': 210}, {'url': 'https://static01.nyt.com/images/2020/09/07/multimedia/07xp-genderreveal-dorado/merlin_176697315_a925bac2-f96e-4a4d-b933-1c18f6a9abab-mediumThreeByTwo440.jpg', 'format': 'mediumThreeByTwo440', 'height': 293, 'width': 440}]}], 'eta_id': 0}, {'uri': 'nyt://article/879baa8d-1950-5a13-b26d-4a3006181c87', 'url': 'https://www.nytimes.com/2020/09/08/well/live/dentists-tooth-teeth-cracks-fractures-coronavirus-stress-grinding.html', 'id': 100000007320866, 'asset_id': 100000007320866, 'source': 'New York Times', 'published_date': '2020-09-08', 'updated': '2020-09-15 10:56:27', 'section': 'Well', 'subsection': 'Live', 'nytdsection': 'well', 'adx_keywords': 'Content Type: Service;Teeth and Dentistry;Bruxism;Anxiety and Stress;Telecommuting;Jaw (Body Part);Quarantines;Coronavirus (2019-nCoV)', 'column': None, 'byline': 'By Tammy Chen, D.D.S.', 'type': 'Article', 'title': 'A Dentist Sees More Cracked Teeth. What’s Going On?', 'abstract': 'When I reopened my dental practice in early June, the tooth fractures started coming in: at least one a day, every single day that I’ve been in the office.', 'des_facet': ['Content Type: Service', 'Teeth and Dentistry', 'Bruxism', 'Anxiety and Stress', 'Telecommuting', 'Jaw (Body Part)', 'Quarantines', 'Coronavirus (2019-nCoV)'], 'org_facet': [], 'per_facet': [], 'geo_facet': [], 'media': [{'type': 'image', 'subtype': 'photo', 'caption': '', 'copyright': 'Getty Images', 'approved_for_syndication': 1, 'media-metadata': [{'url': 'https://static01.nyt.com/images/2020/09/15/well/well-teeth/well-teeth-thumbStandard.jpg', 'format': 'Standard Thumbnail', 'height': 75, 'width': 75}, {'url': 'https://static01.nyt.com/images/2020/09/15/well/well-teeth/well-teeth-mediumThreeByTwo210.jpg', 'format': 'mediumThreeByTwo210', 'height': 140, 'width': 210}, {'url': 'https://static01.nyt.com/images/2020/09/15/well/well-teeth/well-teeth-mediumThreeByTwo440.jpg', 'format': 'mediumThreeByTwo440', 'height': 293, 'width': 440}]}], 'eta_id': 0}, {'uri': 'nyt://article/dcdc929a-a3ff-5e33-8810-249655f0a404', 'url': 'https://www.nytimes.com/2020/09/09/us/fires-oregon-california-live-updates.html', 'id': 100000007331180, 'asset_id': 100000007331180, 'source': 'New York Times', 'published_date': '2020-09-09', 'updated': '2020-09-15 09:28:21', 'section': 'U.S.', 'subsection': '', 'nytdsection': 'u.s.', 'adx_keywords': 'Wildfires;California;Oroville (Calif);Oregon', 'column': None, 'byline': '', 'type': 'Article', 'title': '7 People Die in West Coast Wildfires', 'abstract': 'Strong winds were likely to continue to propel the extraordinary number of fires burning in California, Oregon and Washington.', 'des_facet': ['Wildfires'], 'org_facet': [], 'per_facet': [], 'geo_facet': ['California', 'Oroville (Calif)', 'Oregon'], 'media': [], 'eta_id': 0}, {'uri': 'nyt://article/4593e681-925a-5c47-b699-90ea4ec28e64', 'url': 'https://www.nytimes.com/2020/09/14/us/politics/caputo-virus.html', 'id': 100000007339337, 'asset_id': 100000007339337, 'source': 'New York Times', 'published_date': '2020-09-14', 'updated': '2020-09-15 10:56:10', 'section': 'U.S.', 'subsection': 'Politics', 'nytdsection': 'u.s.', 'adx_keywords': 'Coronavirus (2019-nCoV);Conspiracy Theories;Demonstrations, Protests and Riots;Social Media;United States Politics and Government;Presidential Election of 2020;Caputo, Michael R;Trump, Donald J;Facebook Inc;Health and Human Services Department;Centers for Disease Control and Prevention', 'column': None, 'byline': 'By Sharon LaFraniere', 'type': 'Article', 'title': 'Trump Health Aide Pushes Bizarre Conspiracies and Warns of Armed Revolt', 'abstract': 'Michael R. Caputo told a Facebook audience without evidence that left-wing hit squads were being trained for insurrection and accused C.D.C. scientists of “sedition.”', 'des_facet': ['Coronavirus (2019-nCoV)', 'Conspiracy Theories', 'Demonstrations, Protests and Riots', 'Social Media', 'United States Politics and Government', 'Presidential Election of 2020'], 'org_facet': ['Facebook Inc', 'Health and Human Services Department', 'Centers for Disease Control and Prevention'], 'per_facet': ['Caputo, Michael R', 'Trump, Donald J'], 'geo_facet': [], 'media': [{'type': 'image', 'subtype': 'photo', 'caption': 'Michael Caputo, the top communications official at the Department of Health and Human Services, complained that he was under siege by the news media and said his “mental health has definitely failed.”', 'copyright': 'Sam Hodgson for The New York Times', 'approved_for_syndication': 1, 'media-metadata': [{'url': 'https://static01.nyt.com/images/2020/09/14/us/politics/14dc-virus-caputo/14dc-virus-caputo-thumbStandard-v2.jpg', 'format': 'Standard Thumbnail', 'height': 75, 'width': 75}, {'url': 'https://static01.nyt.com/images/2020/09/14/us/politics/14dc-virus-caputo/14dc-virus-caputo-mediumThreeByTwo210-v2.jpg', 'format': 'mediumThreeByTwo210', 'height': 140, 'width': 210}, {'url': 'https://static01.nyt.com/images/2020/09/14/us/politics/14dc-virus-caputo/14dc-virus-caputo-mediumThreeByTwo440-v2.jpg', 'format': 'mediumThreeByTwo440', 'height': 293, 'width': 440}]}], 'eta_id': 0}, {'uri': 'nyt://article/48f0a5ee-c9a0-5b05-8d9e-505999fe6e71', 'url': 'https://www.nytimes.com/2020/09/09/health/coronavirus-brain.html', 'id': 100000007329962, 'asset_id': 100000007329962, 'source': 'New York Times', 'published_date': '2020-09-09', 'updated': '2020-09-13 04:20:22', 'section': 'Health', 'subsection': '', 'nytdsection': 'health', 'adx_keywords': 'your-feed-science;Stroke;Delirium;Brain;Coronavirus (2019-nCoV);Immune System;Nerves and Nervous System;Zika Virus;Muotri, Alysson;Stevens, Robert', 'column': None, 'byline': 'By Apoorva Mandavilli', 'type': 'Article', 'title': 'How the Coronavirus Attacks the Brain', 'abstract': 'It’s not just the lungs — the pathogen may enter brain cells, causing symptoms like delirium and confusion, scientists reported.', 'des_facet': ['your-feed-science', 'Stroke', 'Delirium', 'Brain', 'Coronavirus (2019-nCoV)', 'Immune System', 'Nerves and Nervous System', 'Zika Virus'], 'org_facet': [], 'per_facet': ['Muotri, Alysson', 'Stevens, Robert'], 'geo_facet': [], 'media': [{'type': 'image', 'subtype': 'photo', 'caption': 'Brain scans of coronavirus patients from a study published in July. Some develop serious neurological complications, including nerve damage, scientists have found.', 'copyright': 'Ross W. Paterson, Rachel L. Brown, et al./Brain, Oxford University Press', 'approved_for_syndication': 1, 'media-metadata': [{'url': 'https://static01.nyt.com/images/2020/09/09/science/09VIRUS-BRAINS1/09VIRUS-BRAINS1-thumbStandard.jpg', 'format': 'Standard Thumbnail', 'height': 75, 'width': 75}, {'url': 'https://static01.nyt.com/images/2020/09/09/science/09VIRUS-BRAINS1/09VIRUS-BRAINS1-mediumThreeByTwo210.jpg', 'format': 'mediumThreeByTwo210', 'height': 140, 'width': 210}, {'url': 'https://static01.nyt.com/images/2020/09/09/science/09VIRUS-BRAINS1/09VIRUS-BRAINS1-mediumThreeByTwo440.jpg', 'format': 'mediumThreeByTwo440', 'height': 293, 'width': 440}]}], 'eta_id': 0}, {'uri': 'nyt://article/80b21e7a-96e2-5ba3-b7cf-6f127cdad5a6', 'url': 'https://www.nytimes.com/article/breonna-taylor-police.html', 'id': 100000007165120, 'asset_id': 100000007165120, 'source': 'New York Times', 'published_date': '2020-05-30', 'updated': '2020-09-05 16:16:18', 'section': 'U.S.', 'subsection': '', 'nytdsection': 'u.s.', 'adx_keywords': 'Black People;Police Brutality, Misconduct and Shootings;Black Lives Matter Movement;Demonstrations, Protests and Riots;George Floyd Protests (2020);Taylor, Breonna (1993-2020);Louisville (Ky)', 'column': None, 'byline': 'By Richard A. Oppel Jr. and Derrick Bryson Taylor', 'type': 'Article', 'title': 'Here’s What You Need to Know About Breonna Taylor’s Death', 'abstract': 'Fury over the killing of Ms. Taylor by the police fueled tense demonstrations in Louisville, Ky., and elsewhere.', 'des_facet': ['Black People', 'Police Brutality, Misconduct and Shootings', 'Black Lives Matter Movement', 'Demonstrations, Protests and Riots', 'George Floyd Protests (2020)'], 'org_facet': [], 'per_facet': ['Taylor, Breonna (1993-2020)'], 'geo_facet': ['Louisville (Ky)'], 'media': [{'type': 'image', 'subtype': 'photo', 'caption': 'Protesters clash with the police on Friday in Louisville, Ky. They were calling for police accountability in the fatal shooting of Breonna Taylor.', 'copyright': 'Whitney Curtis for The New York Times', 'approved_for_syndication': 1, 'media-metadata': [{'url': 'https://static01.nyt.com/images/2020/05/30/us/30taylor-explainer-4/30taylor-explainer-4-thumbStandard.jpg', 'format': 'Standard Thumbnail', 'height': 75, 'width': 75}, {'url': 'https://static01.nyt.com/images/2020/05/30/us/30taylor-explainer-4/merlin_172977372_7e31b4e4-9c60-4aed-ae79-73ee1a068f6f-mediumThreeByTwo210.jpg', 'format': 'mediumThreeByTwo210', 'height': 140, 'width': 210}, {'url': 'https://static01.nyt.com/images/2020/05/30/us/30taylor-explainer-4/merlin_172977372_7e31b4e4-9c60-4aed-ae79-73ee1a068f6f-mediumThreeByTwo440.jpg', 'format': 'mediumThreeByTwo440', 'height': 293, 'width': 440}]}], 'eta_id': 0}, {'uri': 'nyt://article/73420874-454f-5487-ac11-34386851d27d', 'url': 'https://www.nytimes.com/2020/09/08/world/covid-19-coronavirus.html', 'id': 100000007328505, 'asset_id': 100000007328505, 'source': 'New York Times', 'published_date': '2020-09-08', 'updated': '2020-09-15 07:44:19', 'section': 'World', 'subsection': '', 'nytdsection': 'world', 'adx_keywords': 'Coronavirus (2019-nCoV)', 'column': None, 'byline': '', 'type': 'Article', 'title': 'Drugmaker Pauses Covid-19 Vaccine Trial for Safety Review', 'abstract': 'Britain is expected to limit most social gatherings to six people after a spike in cases. A political uproar quashed plans for targeted lockdowns in Israel. People caught maskless in Indonesia were told to lie in a coffin as punishment.', 'des_facet': ['Coronavirus (2019-nCoV)'], 'org_facet': [], 'per_facet': [], 'geo_facet': [], 'media': [{'type': 'image', 'subtype': 'photo', 'caption': '', 'copyright': 'The New York Times', 'approved_for_syndication': 1, 'media-metadata': [{'url': 'https://static01.nyt.com/images/2020/08/03/us/us-briefing-promo-image-print/us-briefing-promo-image-thumbStandard-v2.jpg', 'format': 'Standard Thumbnail', 'height': 75, 'width': 75}, {'url': 'https://static01.nyt.com/images/2020/08/03/us/us-briefing-promo-image-print/us-briefing-promo-image-mediumThreeByTwo210.jpg', 'format': 'mediumThreeByTwo210', 'height': 140, 'width': 210}, {'url': 'https://static01.nyt.com/images/2020/08/03/us/us-briefing-promo-image-print/us-briefing-promo-image-mediumThreeByTwo440.jpg', 'format': 'mediumThreeByTwo440', 'height': 293, 'width': 440}]}], 'eta_id': 0}, {'uri': 'nyt://article/24aafd58-cda1-53d0-ad0e-3b10aa60624a', 'url': 'https://www.nytimes.com/2020/09/08/nyregion/rochester-police-chief-resigns-prude.html', 'id': 100000007330051, 'asset_id': 100000007330051, 'source': 'New York Times', 'published_date': '2020-09-08', 'updated': '2020-09-14 20:21:30', 'section': 'New York', 'subsection': '', 'nytdsection': 'new york', 'adx_keywords': \"Police Brutality, Misconduct and Shootings;Appointments and Executive Changes;Black Lives Matter Movement;Prude, Daniel (d 2020);Singletary, La'Ron D;Morabito, Joseph M;Warren, Lovely A;Police Department (Rochester, NY);Rochester (NY)\", 'column': None, 'byline': 'By Edgar Sandoval and Michael Wilson', 'type': 'Article', 'title': 'Rochester Police Chief Resigns After Accusations of Cover-Up in Prude Case', 'abstract': 'Rochester’s mayor said the police chief and the entire police command were stepping down, days after the state attorney general said a grand jury would look into the death of Daniel Prude.', 'des_facet': ['Police Brutality, Misconduct and Shootings', 'Appointments and Executive Changes', 'Black Lives Matter Movement'], 'org_facet': ['Police Department (Rochester, NY)'], 'per_facet': ['Prude, Daniel (d 2020)', \"Singletary, La'Ron D\", 'Morabito, Joseph M', 'Warren, Lovely A'], 'geo_facet': ['Rochester (NY)'], 'media': [], 'eta_id': 0}, {'uri': 'nyt://article/304423f5-8b61-5f3c-bddf-70eb05202f13', 'url': 'https://www.nytimes.com/2020/09/08/us/wildfires-live-updates.html', 'id': 100000007329072, 'asset_id': 100000007329072, 'source': 'New York Times', 'published_date': '2020-09-08', 'updated': '2020-09-15 09:28:28', 'section': 'U.S.', 'subsection': '', 'nytdsection': 'u.s.', 'adx_keywords': 'Wildfires;Cal Fire;California;Sierra National Forest (Calif)', 'column': None, 'byline': '', 'type': 'Article', 'title': 'Wildfires Lead to Helicopter Rescues in California and Destruction in Washington', 'abstract': 'Extreme weather battered the Western United States on Tuesday, with fires along the Pacific Coast and snow falling in Colorado.', 'des_facet': ['Wildfires'], 'org_facet': ['Cal Fire'], 'per_facet': [], 'geo_facet': ['California', 'Sierra National Forest (Calif)'], 'media': [], 'eta_id': 0}, {'uri': 'nyt://article/ab4a1c1f-41db-565d-8e20-fd6a67eda4a4', 'url': 'https://www.nytimes.com/2020/09/13/us/Wildfires-Oregon-California-Washington.html', 'id': 100000007338551, 'asset_id': 100000007338551, 'source': 'New York Times', 'published_date': '2020-09-13', 'updated': '2020-09-14 08:58:38', 'section': 'U.S.', 'subsection': '', 'nytdsection': 'u.s.', 'adx_keywords': 'Wildfires;California;Oregon;Paradise (Calif);Washington (State)', 'column': None, 'byline': 'By Thomas Fuller and Jack Healy', 'type': 'Article', 'title': 'As Wildfires Burn Out of Control, the West Coast Faces the Unimaginable', 'abstract': 'Firefighters across California and Oregon are bracing for stronger winds that could partly clear the air — but also fan the flames of uncontrolled blazes.', 'des_facet': ['Wildfires'], 'org_facet': [], 'per_facet': [], 'geo_facet': ['California', 'Oregon', 'Paradise (Calif)', 'Washington (State)'], 'media': [{'type': 'image', 'subtype': 'photo', 'caption': 'A firefighter watches a controlled burn at the Bear Fire in Big Bend, Calif. on Saturday.', 'copyright': 'Christian Monterrosa for The New York Times', 'approved_for_syndication': 1, 'media-metadata': [{'url': 'https://static01.nyt.com/images/2020/09/13/us/13WILDFIRES-1/13WILDFIRES-1-thumbStandard.jpg', 'format': 'Standard Thumbnail', 'height': 75, 'width': 75}, {'url': 'https://static01.nyt.com/images/2020/09/13/us/13WILDFIRES-1/merlin_176943531_808ec709-2f58-4775-95ce-a27c1f7a82e4-mediumThreeByTwo210.jpg', 'format': 'mediumThreeByTwo210', 'height': 140, 'width': 210}, {'url': 'https://static01.nyt.com/images/2020/09/13/us/13WILDFIRES-1/merlin_176943531_808ec709-2f58-4775-95ce-a27c1f7a82e4-mediumThreeByTwo440.jpg', 'format': 'mediumThreeByTwo440', 'height': 293, 'width': 440}]}], 'eta_id': 0}, {'uri': 'nyt://article/4aa15524-32cc-570a-b90a-743f45918ce9', 'url': 'https://www.nytimes.com/2020/09/10/health/university-illinois-covid.html', 'id': 100000007332102, 'asset_id': 100000007332102, 'source': 'New York Times', 'published_date': '2020-09-10', 'updated': '2020-09-14 22:18:17', 'section': 'Health', 'subsection': '', 'nytdsection': 'health', 'adx_keywords': 'Coronavirus (2019-nCoV);Colleges and Universities;Fraternities and Sororities;Tests (Medical);Parties (Social);Physics;Disease Rates;Coronavirus Reopenings;University of Illinois, Urbana-Champaign;xkcd', 'column': None, 'byline': 'By Kenneth Chang', 'type': 'Article', 'title': 'A University Had a Great Coronavirus Plan, but Students Partied On', 'abstract': 'An unexpected upswing in positive tests at the University of Illinois at Urbana-Champaign showed how even the most comprehensive approaches to limiting the virus’s spread can break down.', 'des_facet': ['Coronavirus (2019-nCoV)', 'Colleges and Universities', 'Fraternities and Sororities', 'Tests (Medical)', 'Parties (Social)', 'Physics', 'Disease Rates', 'Coronavirus Reopenings'], 'org_facet': ['University of Illinois, Urbana-Champaign', 'xkcd'], 'per_facet': [], 'geo_facet': [], 'media': [{'type': 'image', 'subtype': 'photo', 'caption': '&ldquo;It was willful noncompliance by a small group of people,&rdquo; said one university physicist.', 'copyright': 'Elizabeth Given/Alamy', 'approved_for_syndication': 1, 'media-metadata': [{'url': 'https://static01.nyt.com/images/2020/09/15/science/10VIRUS-ILLINOIS1/10VIRUS-ILLINOIS1-thumbStandard.jpg', 'format': 'Standard Thumbnail', 'height': 75, 'width': 75}, {'url': 'https://static01.nyt.com/images/2020/09/15/science/10VIRUS-ILLINOIS1/10VIRUS-ILLINOIS1-mediumThreeByTwo210.jpg', 'format': 'mediumThreeByTwo210', 'height': 140, 'width': 210}, {'url': 'https://static01.nyt.com/images/2020/09/15/science/10VIRUS-ILLINOIS1/10VIRUS-ILLINOIS1-mediumThreeByTwo440.jpg', 'format': 'mediumThreeByTwo440', 'height': 293, 'width': 440}]}], 'eta_id': 0}, {'uri': 'nyt://article/9440e6d4-ed93-5adb-a7a7-8d21f5f30909', 'url': 'https://www.nytimes.com/2020/09/08/dining/grocery-shopping-coronavirus.html', 'id': 100000007322799, 'asset_id': 100000007322799, 'source': 'New York Times', 'published_date': '2020-09-08', 'updated': '2020-09-12 18:29:55', 'section': 'Food', 'subsection': '', 'nytdsection': 'food', 'adx_keywords': 'Quarantine (Life and Culture);Supermarkets and Grocery Stores;Food;Delivery Services;Health Foods;Local Food;Oranges;Frozen Foods;United States', 'column': None, 'byline': 'By Kim Severson', 'type': 'Article', 'title': '7 Ways the Pandemic Has Changed How We Shop for Food', 'abstract': 'Oranges and frozen foods are being snapped up. Shelves have fewer choices. And customers are steering their carts in surprising new directions.', 'des_facet': ['Quarantine (Life and Culture)', 'Supermarkets and Grocery Stores', 'Food', 'Delivery Services', 'Health Foods', 'Local Food', 'Oranges', 'Frozen Foods'], 'org_facet': [], 'per_facet': [], 'geo_facet': ['United States'], 'media': [{'type': 'image', 'subtype': 'photo', 'caption': 'Several grocery chains (including Kroger, here) have used the shift in pandemic shopping habits to install more self-serve kiosks and explore other touchless checkout methods.', 'copyright': 'Andrew Spear for The New York Times', 'approved_for_syndication': 1, 'media-metadata': [{'url': 'https://static01.nyt.com/images/2020/09/09/dining/08grocery15/08grocery15-thumbStandard.jpg', 'format': 'Standard Thumbnail', 'height': 75, 'width': 75}, {'url': 'https://static01.nyt.com/images/2020/09/09/dining/08grocery15/08grocery15-mediumThreeByTwo210-v2.jpg', 'format': 'mediumThreeByTwo210', 'height': 140, 'width': 210}, {'url': 'https://static01.nyt.com/images/2020/09/09/dining/08grocery15/08grocery15-mediumThreeByTwo440-v2.jpg', 'format': 'mediumThreeByTwo440', 'height': 293, 'width': 440}]}], 'eta_id': 0}, {'uri': 'nyt://article/9ba5dccf-8655-5862-a0c3-74db08526d88', 'url': 'https://www.nytimes.com/2020/09/12/movies/cuties-netflix.html', 'id': 100000007337517, 'asset_id': 100000007337517, 'source': 'New York Times', 'published_date': '2020-09-12', 'updated': '2020-09-14 21:09:00', 'section': 'Movies', 'subsection': '', 'nytdsection': 'movies', 'adx_keywords': 'Movies;Doucoure, Maimouna;Netflix Inc', 'column': None, 'byline': 'By Christina Morales', 'type': 'Article', 'title': '‘Cuties’ Sparks a Firestorm, Again, After Its Netflix Release', 'abstract': 'Several members of Congress have weighed in on the award-winning film, including to call for its removal from Netflix or a Justice Department investigation.', 'des_facet': ['Movies'], 'org_facet': ['Netflix Inc'], 'per_facet': ['Doucoure, Maimouna'], 'geo_facet': [], 'media': [{'type': 'image', 'subtype': 'photo', 'caption': '“Cuties” tells the story of Amy (Fathia Youssouf), a young daughter of Senegalese immigrants struggling to find her place growing up on the outskirts of Paris.', 'copyright': 'Netflix', 'approved_for_syndication': 0, 'media-metadata': [{'url': 'https://static01.nyt.com/images/2020/09/12/multimedia/12cuties2/12cuties2-thumbStandard-v2.jpg', 'format': 'Standard Thumbnail', 'height': 75, 'width': 75}, {'url': 'https://static01.nyt.com/images/2020/09/12/multimedia/12cuties2/12cuties2-mediumThreeByTwo210-v3.jpg', 'format': 'mediumThreeByTwo210', 'height': 140, 'width': 210}, {'url': 'https://static01.nyt.com/images/2020/09/12/multimedia/12cuties2/12cuties2-mediumThreeByTwo440-v3.jpg', 'format': 'mediumThreeByTwo440', 'height': 293, 'width': 440}]}], 'eta_id': 0}, {'uri': 'nyt://article/21deb55c-e4a5-5d97-bbfd-0dd5421d981f', 'url': 'https://www.nytimes.com/2020/09/09/us/politics/woodward-trump-rage-takeaways.html', 'id': 100000007332197, 'asset_id': 100000007332197, 'source': 'New York Times', 'published_date': '2020-09-09', 'updated': '2020-09-10 20:34:45', 'section': 'U.S.', 'subsection': 'Politics', 'nytdsection': 'u.s.', 'adx_keywords': 'United States Politics and Government;Coronavirus (2019-nCoV);Black People;United States Defense and Military Forces;United States International Relations;Woodward, Bob;Trump, Donald J;Coats, Dan;Mattis, James N;Kim Jong-un;Putin, Vladimir V;Russia;North Korea;United States', 'column': None, 'byline': 'By Aishvarya Kavi', 'type': 'Article', 'title': '5 Takeaways From ‘Rage,’ Bob Woodward’s New Book About Trump', 'abstract': 'Mr. Woodward reveals that President Trump sought to play down the severity of the coronavirus and repeatedly denigrated the U.S. military.', 'des_facet': ['United States Politics and Government', 'Coronavirus (2019-nCoV)', 'Black People', 'United States Defense and Military Forces', 'United States International Relations'], 'org_facet': [], 'per_facet': ['Woodward, Bob', 'Trump, Donald J', 'Coats, Dan', 'Mattis, James N', 'Kim Jong-un', 'Putin, Vladimir V'], 'geo_facet': ['Russia', 'North Korea', 'United States'], 'media': [{'type': 'image', 'subtype': 'photo', 'caption': 'President Trump described his chemistry with the North Korean leader, Kim Jong-un, to the journalist Bob Woodward, saying:\\xa0“You meet a woman. In one second, you know whether or not it’s going to happen.”\\xa0', 'copyright': 'Erin Schaff/The New York Times', 'approved_for_syndication': 1, 'media-metadata': [{'url': 'https://static01.nyt.com/images/2020/09/09/us/politics/09dc-takeaways1/merlin_157241838_1fd9a832-0b1c-4629-8284-687391bc83cf-thumbStandard.jpg', 'format': 'Standard Thumbnail', 'height': 75, 'width': 75}, {'url': 'https://static01.nyt.com/images/2020/09/09/us/politics/09dc-takeaways1/merlin_157241838_1fd9a832-0b1c-4629-8284-687391bc83cf-mediumThreeByTwo210.jpg', 'format': 'mediumThreeByTwo210', 'height': 140, 'width': 210}, {'url': 'https://static01.nyt.com/images/2020/09/09/us/politics/09dc-takeaways1/merlin_157241838_1fd9a832-0b1c-4629-8284-687391bc83cf-mediumThreeByTwo440.jpg', 'format': 'mediumThreeByTwo440', 'height': 293, 'width': 440}]}], 'eta_id': 0}]\n"
          ],
          "name": "stdout"
        }
      ]
    },
    {
      "cell_type": "code",
      "metadata": {
        "id": "iOwmsjLFgqEr",
        "colab_type": "code",
        "colab": {
          "base_uri": "https://localhost:8080/",
          "height": 54
        },
        "outputId": "04f8dbaf-6f05-41ba-f219-95ee0c5468ed"
      },
      "source": [
        "\n",
        "h=[] # store our media which is a list of dictionaries\n",
        " \n",
        "for news_stuff in pop_articles:\n",
        "    if 'published_date' in news_stuff:\n",
        "        my_data['published_date'].append(news_stuff['published_date'])\n",
        "    else:\n",
        "        my_data['published_date'].append(None)\n",
        "        \n",
        "    if 'byline' in news_stuff:\n",
        "        my_data['byline'].append(news_stuff['byline'])\n",
        "    else:\n",
        "        my_data['byline'].append(None)\n",
        "\n",
        "    if 'title' in news_stuff:\n",
        "        my_data['title'].append(news_stuff['title'])\n",
        "    else:\n",
        "        my_data['title'].append(None)\n",
        "\n",
        "    if 'abstract' in news_stuff:\n",
        "        my_data['abstract'].append(news_stuff['abstract'])\n",
        "    else:\n",
        "        my_data['abstract'].append(None)\n",
        "\n",
        "print(my_data)"
      ],
      "execution_count": 26,
      "outputs": [
        {
          "output_type": "stream",
          "text": [
            "{'published_date': ['2020-09-08', '2020-09-14', '2018-02-28', '2020-09-11', '2020-09-07', '2020-09-09', '2020-09-07', '2020-09-08', '2020-09-09', '2020-09-14', '2020-09-09', '2020-05-30', '2020-09-08', '2020-09-08', '2020-09-08', '2020-09-13', '2020-09-10', '2020-09-08', '2020-09-12', '2020-09-09'], 'byline': ['By Alan Feuer', 'By Shannon Stirone, Kenneth Chang and Dennis Overbye', 'By Henrik Pryser Libell', '', 'By Shane Goldmacher and Maggie Haberman', 'By Nicholas Kristof', 'By Christina Morales and Allyson Waller', 'By Tammy Chen, D.D.S.', '', 'By Sharon LaFraniere', 'By Apoorva Mandavilli', 'By Richard A. Oppel Jr. and Derrick Bryson Taylor', '', 'By Edgar Sandoval and Michael Wilson', '', 'By Thomas Fuller and Jack Healy', 'By Kenneth Chang', 'By Kim Severson', 'By Christina Morales', 'By Aishvarya Kavi'], 'title': ['Justice Dept. Intervenes to Help Trump in E. Jean Carroll Defamation Lawsuit', 'Life on Venus? Astronomers See a Signal in Its Clouds', 'From 2018: Trump’s Nomination for the Nobel Peace Prize Was Apparently Forged. Twice.', 'Suspect Is Charged With Arson in Oregon Wildfire', 'How Trump’s Billion-Dollar Campaign Lost Its Cash Advantage', '‘We’re No. 28! And Dropping!’', 'A Gender-Reveal Celebration Is Blamed for a Wildfire. It Isn’t the First Time.', 'A Dentist Sees More Cracked Teeth. What’s Going On?', '7 People Die in West Coast Wildfires', 'Trump Health Aide Pushes Bizarre Conspiracies and Warns of Armed Revolt', 'How the Coronavirus Attacks the Brain', 'Here’s What You Need to Know About Breonna Taylor’s Death', 'Drugmaker Pauses Covid-19 Vaccine Trial for Safety Review', 'Rochester Police Chief Resigns After Accusations of Cover-Up in Prude Case', 'Wildfires Lead to Helicopter Rescues in California and Destruction in Washington', 'As Wildfires Burn Out of Control, the West Coast Faces the Unimaginable', 'A University Had a Great Coronavirus Plan, but Students Partied On', '7 Ways the Pandemic Has Changed How We Shop for Food', '‘Cuties’ Sparks a Firestorm, Again, After Its Netflix Release', '5 Takeaways From ‘Rage,’ Bob Woodward’s New Book About Trump'], 'abstract': ['Government lawyers made the unusual move of seeking to take over President Trump’s defense in a suit brought by Ms. Carroll, who has accused Mr. Trump of raping her in the 1990s.', 'The detection of a gas in the planet’s atmosphere could turn scientists’ gaze to a planet long overlooked in the search for extraterrestrial life.', 'The police in Oslo said they were in contact with the F.B.I. about the forgeries, which suggests that they originated in the United States.', 'Oregon’s governor said there were concerns for dozens of people reported missing in a state where more than a million acres have burned. California and Washington State are also battling fires.', 'Five months ago, President Trump’s re-election campaign had a huge financial edge over Joseph R. Biden Jr.’s. The Times conducted an extensive review of how the Trump team spent lavishly to show how that advantage evaporated.', 'A measure of social progress finds that the quality of life has dropped in America over the last decade, even as it has risen almost everywhere else.', 'The El Dorado fire in California ignited as a family was using a “pyrotechnic device” to announce the gender of a new baby, the authorities said.', 'When I reopened my dental practice in early June, the tooth fractures started coming in: at least one a day, every single day that I’ve been in the office.', 'Strong winds were likely to continue to propel the extraordinary number of fires burning in California, Oregon and Washington.', 'Michael R. Caputo told a Facebook audience without evidence that left-wing hit squads were being trained for insurrection and accused C.D.C. scientists of “sedition.”', 'It’s not just the lungs — the pathogen may enter brain cells, causing symptoms like delirium and confusion, scientists reported.', 'Fury over the killing of Ms. Taylor by the police fueled tense demonstrations in Louisville, Ky., and elsewhere.', 'Britain is expected to limit most social gatherings to six people after a spike in cases. A political uproar quashed plans for targeted lockdowns in Israel. People caught maskless in Indonesia were told to lie in a coffin as punishment.', 'Rochester’s mayor said the police chief and the entire police command were stepping down, days after the state attorney general said a grand jury would look into the death of Daniel Prude.', 'Extreme weather battered the Western United States on Tuesday, with fires along the Pacific Coast and snow falling in Colorado.', 'Firefighters across California and Oregon are bracing for stronger winds that could partly clear the air — but also fan the flames of uncontrolled blazes.', 'An unexpected upswing in positive tests at the University of Illinois at Urbana-Champaign showed how even the most comprehensive approaches to limiting the virus’s spread can break down.', 'Oranges and frozen foods are being snapped up. Shelves have fewer choices. And customers are steering their carts in surprising new directions.', 'Several members of Congress have weighed in on the award-winning film, including to call for its removal from Netflix or a Justice Department investigation.', 'Mr. Woodward reveals that President Trump sought to play down the severity of the coronavirus and repeatedly denigrated the U.S. military.']}\n"
          ],
          "name": "stdout"
        }
      ]
    },
    {
      "cell_type": "code",
      "metadata": {
        "id": "c_AqQ2khjwil",
        "colab_type": "code",
        "colab": {
          "base_uri": "https://localhost:8080/",
          "height": 805
        },
        "outputId": "16abda5a-1ef6-466d-c59b-8464d87a51d2"
      },
      "source": [
        "df2 = pd.DataFrame(my_data)\n",
        "df2"
      ],
      "execution_count": 32,
      "outputs": [
        {
          "output_type": "execute_result",
          "data": {
            "text/html": [
              "<div>\n",
              "<style scoped>\n",
              "    .dataframe tbody tr th:only-of-type {\n",
              "        vertical-align: middle;\n",
              "    }\n",
              "\n",
              "    .dataframe tbody tr th {\n",
              "        vertical-align: top;\n",
              "    }\n",
              "\n",
              "    .dataframe thead th {\n",
              "        text-align: right;\n",
              "    }\n",
              "</style>\n",
              "<table border=\"1\" class=\"dataframe\">\n",
              "  <thead>\n",
              "    <tr style=\"text-align: right;\">\n",
              "      <th></th>\n",
              "      <th>published_date</th>\n",
              "      <th>byline</th>\n",
              "      <th>title</th>\n",
              "      <th>abstract</th>\n",
              "    </tr>\n",
              "  </thead>\n",
              "  <tbody>\n",
              "    <tr>\n",
              "      <th>0</th>\n",
              "      <td>2020-09-08</td>\n",
              "      <td>By Alan Feuer</td>\n",
              "      <td>Justice Dept. Intervenes to Help Trump in E. J...</td>\n",
              "      <td>Government lawyers made the unusual move of se...</td>\n",
              "    </tr>\n",
              "    <tr>\n",
              "      <th>1</th>\n",
              "      <td>2020-09-14</td>\n",
              "      <td>By Shannon Stirone, Kenneth Chang and Dennis O...</td>\n",
              "      <td>Life on Venus? Astronomers See a Signal in Its...</td>\n",
              "      <td>The detection of a gas in the planet’s atmosph...</td>\n",
              "    </tr>\n",
              "    <tr>\n",
              "      <th>2</th>\n",
              "      <td>2018-02-28</td>\n",
              "      <td>By Henrik Pryser Libell</td>\n",
              "      <td>From 2018: Trump’s Nomination for the Nobel Pe...</td>\n",
              "      <td>The police in Oslo said they were in contact w...</td>\n",
              "    </tr>\n",
              "    <tr>\n",
              "      <th>3</th>\n",
              "      <td>2020-09-11</td>\n",
              "      <td></td>\n",
              "      <td>Suspect Is Charged With Arson in Oregon Wildfire</td>\n",
              "      <td>Oregon’s governor said there were concerns for...</td>\n",
              "    </tr>\n",
              "    <tr>\n",
              "      <th>4</th>\n",
              "      <td>2020-09-07</td>\n",
              "      <td>By Shane Goldmacher and Maggie Haberman</td>\n",
              "      <td>How Trump’s Billion-Dollar Campaign Lost Its C...</td>\n",
              "      <td>Five months ago, President Trump’s re-election...</td>\n",
              "    </tr>\n",
              "    <tr>\n",
              "      <th>5</th>\n",
              "      <td>2020-09-09</td>\n",
              "      <td>By Nicholas Kristof</td>\n",
              "      <td>‘We’re No. 28! And Dropping!’</td>\n",
              "      <td>A measure of social progress finds that the qu...</td>\n",
              "    </tr>\n",
              "    <tr>\n",
              "      <th>6</th>\n",
              "      <td>2020-09-07</td>\n",
              "      <td>By Christina Morales and Allyson Waller</td>\n",
              "      <td>A Gender-Reveal Celebration Is Blamed for a Wi...</td>\n",
              "      <td>The El Dorado fire in California ignited as a ...</td>\n",
              "    </tr>\n",
              "    <tr>\n",
              "      <th>7</th>\n",
              "      <td>2020-09-08</td>\n",
              "      <td>By Tammy Chen, D.D.S.</td>\n",
              "      <td>A Dentist Sees More Cracked Teeth. What’s Goin...</td>\n",
              "      <td>When I reopened my dental practice in early Ju...</td>\n",
              "    </tr>\n",
              "    <tr>\n",
              "      <th>8</th>\n",
              "      <td>2020-09-09</td>\n",
              "      <td></td>\n",
              "      <td>7 People Die in West Coast Wildfires</td>\n",
              "      <td>Strong winds were likely to continue to propel...</td>\n",
              "    </tr>\n",
              "    <tr>\n",
              "      <th>9</th>\n",
              "      <td>2020-09-14</td>\n",
              "      <td>By Sharon LaFraniere</td>\n",
              "      <td>Trump Health Aide Pushes Bizarre Conspiracies ...</td>\n",
              "      <td>Michael R. Caputo told a Facebook audience wit...</td>\n",
              "    </tr>\n",
              "    <tr>\n",
              "      <th>10</th>\n",
              "      <td>2020-09-09</td>\n",
              "      <td>By Apoorva Mandavilli</td>\n",
              "      <td>How the Coronavirus Attacks the Brain</td>\n",
              "      <td>It’s not just the lungs — the pathogen may ent...</td>\n",
              "    </tr>\n",
              "    <tr>\n",
              "      <th>11</th>\n",
              "      <td>2020-05-30</td>\n",
              "      <td>By Richard A. Oppel Jr. and Derrick Bryson Taylor</td>\n",
              "      <td>Here’s What You Need to Know About Breonna Tay...</td>\n",
              "      <td>Fury over the killing of Ms. Taylor by the pol...</td>\n",
              "    </tr>\n",
              "    <tr>\n",
              "      <th>12</th>\n",
              "      <td>2020-09-08</td>\n",
              "      <td></td>\n",
              "      <td>Drugmaker Pauses Covid-19 Vaccine Trial for Sa...</td>\n",
              "      <td>Britain is expected to limit most social gathe...</td>\n",
              "    </tr>\n",
              "    <tr>\n",
              "      <th>13</th>\n",
              "      <td>2020-09-08</td>\n",
              "      <td>By Edgar Sandoval and Michael Wilson</td>\n",
              "      <td>Rochester Police Chief Resigns After Accusatio...</td>\n",
              "      <td>Rochester’s mayor said the police chief and th...</td>\n",
              "    </tr>\n",
              "    <tr>\n",
              "      <th>14</th>\n",
              "      <td>2020-09-08</td>\n",
              "      <td></td>\n",
              "      <td>Wildfires Lead to Helicopter Rescues in Califo...</td>\n",
              "      <td>Extreme weather battered the Western United St...</td>\n",
              "    </tr>\n",
              "    <tr>\n",
              "      <th>15</th>\n",
              "      <td>2020-09-13</td>\n",
              "      <td>By Thomas Fuller and Jack Healy</td>\n",
              "      <td>As Wildfires Burn Out of Control, the West Coa...</td>\n",
              "      <td>Firefighters across California and Oregon are ...</td>\n",
              "    </tr>\n",
              "    <tr>\n",
              "      <th>16</th>\n",
              "      <td>2020-09-10</td>\n",
              "      <td>By Kenneth Chang</td>\n",
              "      <td>A University Had a Great Coronavirus Plan, but...</td>\n",
              "      <td>An unexpected upswing in positive tests at the...</td>\n",
              "    </tr>\n",
              "    <tr>\n",
              "      <th>17</th>\n",
              "      <td>2020-09-08</td>\n",
              "      <td>By Kim Severson</td>\n",
              "      <td>7 Ways the Pandemic Has Changed How We Shop fo...</td>\n",
              "      <td>Oranges and frozen foods are being snapped up....</td>\n",
              "    </tr>\n",
              "    <tr>\n",
              "      <th>18</th>\n",
              "      <td>2020-09-12</td>\n",
              "      <td>By Christina Morales</td>\n",
              "      <td>‘Cuties’ Sparks a Firestorm, Again, After Its ...</td>\n",
              "      <td>Several members of Congress have weighed in on...</td>\n",
              "    </tr>\n",
              "    <tr>\n",
              "      <th>19</th>\n",
              "      <td>2020-09-09</td>\n",
              "      <td>By Aishvarya Kavi</td>\n",
              "      <td>5 Takeaways From ‘Rage,’ Bob Woodward’s New Bo...</td>\n",
              "      <td>Mr. Woodward reveals that President Trump soug...</td>\n",
              "    </tr>\n",
              "  </tbody>\n",
              "</table>\n",
              "</div>"
            ],
            "text/plain": [
              "   published_date  ...                                           abstract\n",
              "0      2020-09-08  ...  Government lawyers made the unusual move of se...\n",
              "1      2020-09-14  ...  The detection of a gas in the planet’s atmosph...\n",
              "2      2018-02-28  ...  The police in Oslo said they were in contact w...\n",
              "3      2020-09-11  ...  Oregon’s governor said there were concerns for...\n",
              "4      2020-09-07  ...  Five months ago, President Trump’s re-election...\n",
              "5      2020-09-09  ...  A measure of social progress finds that the qu...\n",
              "6      2020-09-07  ...  The El Dorado fire in California ignited as a ...\n",
              "7      2020-09-08  ...  When I reopened my dental practice in early Ju...\n",
              "8      2020-09-09  ...  Strong winds were likely to continue to propel...\n",
              "9      2020-09-14  ...  Michael R. Caputo told a Facebook audience wit...\n",
              "10     2020-09-09  ...  It’s not just the lungs — the pathogen may ent...\n",
              "11     2020-05-30  ...  Fury over the killing of Ms. Taylor by the pol...\n",
              "12     2020-09-08  ...  Britain is expected to limit most social gathe...\n",
              "13     2020-09-08  ...  Rochester’s mayor said the police chief and th...\n",
              "14     2020-09-08  ...  Extreme weather battered the Western United St...\n",
              "15     2020-09-13  ...  Firefighters across California and Oregon are ...\n",
              "16     2020-09-10  ...  An unexpected upswing in positive tests at the...\n",
              "17     2020-09-08  ...  Oranges and frozen foods are being snapped up....\n",
              "18     2020-09-12  ...  Several members of Congress have weighed in on...\n",
              "19     2020-09-09  ...  Mr. Woodward reveals that President Trump soug...\n",
              "\n",
              "[20 rows x 4 columns]"
            ]
          },
          "metadata": {
            "tags": []
          },
          "execution_count": 32
        }
      ]
    },
    {
      "cell_type": "code",
      "metadata": {
        "id": "25dfGzKrjwuG",
        "colab_type": "code",
        "colab": {}
      },
      "source": [
        ""
      ],
      "execution_count": null,
      "outputs": []
    },
    {
      "cell_type": "code",
      "metadata": {
        "id": "N_t7vmgOjw5p",
        "colab_type": "code",
        "colab": {}
      },
      "source": [
        ""
      ],
      "execution_count": null,
      "outputs": []
    },
    {
      "cell_type": "code",
      "metadata": {
        "id": "AF_6vAgVjeuv",
        "colab_type": "code",
        "colab": {}
      },
      "source": [
        ""
      ],
      "execution_count": null,
      "outputs": []
    }
  ]
}